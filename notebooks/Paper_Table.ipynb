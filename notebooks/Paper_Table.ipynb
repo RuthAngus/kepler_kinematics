{
 "cells": [
  {
   "cell_type": "markdown",
   "metadata": {},
   "source": [
    "# Making the table for the paper"
   ]
  },
  {
   "cell_type": "code",
   "execution_count": 1,
   "metadata": {},
   "outputs": [],
   "source": [
    "import numpy as np\n",
    "import pandas as pd\n",
    "import matplotlib.pyplot as plt\n",
    "%matplotlib inline"
   ]
  },
  {
   "cell_type": "code",
   "execution_count": 4,
   "metadata": {},
   "outputs": [],
   "source": [
    "data = pd.read_csv(\"../data/data.csv\")"
   ]
  },
  {
   "cell_type": "code",
   "execution_count": 2,
   "metadata": {},
   "outputs": [],
   "source": [
    "results = pd.read_csv(\"../data/total_results.csv\")"
   ]
  },
  {
   "cell_type": "code",
   "execution_count": 3,
   "metadata": {},
   "outputs": [
    {
     "data": {
      "text/plain": [
       "Index(['Unnamed: 0', 'Unnamed: 0.1', 'Unnamed: 0.1.1', 'kepid', 'vx_inferred',\n",
       "       'vx_inferred_errp', 'vx_inferred_errm', 'vx_inferred_err', 'vx_random',\n",
       "       'vy_inferred', 'vy_inferred_errp', 'vy_inferred_errm',\n",
       "       'vy_inferred_err', 'vy_random', 'vz_inferred', 'vz_inferred_errp',\n",
       "       'vz_inferred_errm', 'vz_inferred_err', 'vz_random',\n",
       "       'lndistance_inferred', 'lndistance_inferred_errp',\n",
       "       'lndistance_inferred_errm', 'lndistance_inferred_err',\n",
       "       'lndistance_random', 'vxvx_covar', 'vxvy_covar', 'vxvz_covar',\n",
       "       'vxlnd_covar', 'vyvy_covar', 'vyvz_covar', 'vylnd_covar', 'vzvz_covar',\n",
       "       'vzlnd_covar', 'lndlnd_covar'],\n",
       "      dtype='object')"
      ]
     },
     "execution_count": 3,
     "metadata": {},
     "output_type": "execute_result"
    }
   ],
   "source": [
    "results.keys()"
   ]
  },
  {
   "cell_type": "code",
   "execution_count": 5,
   "metadata": {},
   "outputs": [
    {
     "name": "stdout",
     "output_type": "stream",
     "text": [
      "(148591, 180) (148591, 34) (148591, 213)\n"
     ]
    }
   ],
   "source": [
    "df = pd.merge(data, results, on=\"kepid\", how=\"right\")\n",
    "print(np.shape(data), np.shape(results), np.shape(df))"
   ]
  },
  {
   "cell_type": "code",
   "execution_count": 28,
   "metadata": {},
   "outputs": [],
   "source": [
    "table = pd.DataFrame(dict({\"kic_id\": df.kepid.values,\n",
    "                           \"source_id\": df.source_id.values,\n",
    "                           \"ra\": df.ra.values, \"ra_error\": df.ra_error.values,\n",
    "                           \"dec\": df.dec.values, \"dec_error\": df.dec_error.values,\n",
    "                           \"parallax\": df.parallax.values, \"parallax_error\": df.parallax_error.values,\n",
    "                           \"r_med_photogeo\": df.r_med_photogeo.values,\n",
    "                           \"r_lo_photogeo\": df.r_lo_photogeo.values,\n",
    "                           \"r_hi_photogeo\": df.r_hi_photogeo.values,\n",
    "                           \"pmra\": df.pmra.values, \"pmra_error\": df.pmra_error.values,\n",
    "                           \"pmdec\": df.pmdec.values, \"pmdec_error\": df.pmdec_error.values,\n",
    "                           \"gaia_dr2_rv\": df.dr2_radial_velocity.values,\n",
    "                           \"gaia_dr2_rv_error\": df.dr2_radial_velocity_error.values,\n",
    "                           \"apogee_rv\": df.apogee_corrected_rv.values, \"apogee_rv_error\": df.APOGEE_RV_ERR.values,\n",
    "                           \"lamost_rv\": df.lamost_corrected_rv.values, \"lamost_rv_error\": df.LAMOST_RV_ERR.values,\n",
    "                           \"vx_calc\": df.vx.values, \"vx_inferred\": df.vx_inferred.values, \"vx_inferred_error\": df.vx_inferred_err,\n",
    "                           \"vy_calc\": df.vy.values, \"vy_inferred\": df.vy_inferred.values, \"vy_inferred_error\": df.vy_inferred_err,\n",
    "                           \"vz_calc\": df.vz.values, \"vz_inferred\": df.vz_inferred.values, \"vz_inferred_error\": df.vz_inferred_err,\n",
    "                           \"vxvy_covar\": df.vxvy_covar.values,\n",
    "                           \"vxvz_covar\": df.vxvz_covar.values,\n",
    "                           \"vxlnd_covar\": df.vxlnd_covar.values,\n",
    "                           \"vyvz_covar\": df.vyvz_covar.values,\n",
    "                           \"vylnd_covar\": df.vylnd_covar.values,\n",
    "                           \"vzlnd_covar\": df.vzlnd_covar.values\n",
    "                          }))\n",
    "\n",
    "table.to_csv(\"../data/final_paper_table.csv\")"
   ]
  },
  {
   "cell_type": "code",
   "execution_count": 24,
   "metadata": {},
   "outputs": [
    {
     "data": {
      "text/plain": [
       "['gaia_lamost_angular_separation_arcsec', 'lamost_corrected_rv']"
      ]
     },
     "execution_count": 24,
     "metadata": {},
     "output_type": "execute_result"
    }
   ],
   "source": [
    "[col for col in df.columns if \"lam\" in col]"
   ]
  },
  {
   "cell_type": "code",
   "execution_count": 16,
   "metadata": {},
   "outputs": [
    {
     "data": {
      "text/plain": [
       "['Unnamed: 0_x',\n",
       " 'kepid',\n",
       " 'tm_designation',\n",
       " 'kepmag',\n",
       " 'teff',\n",
       " 'teff_err1',\n",
       " 'teff_err2',\n",
       " 'teff_prov',\n",
       " 'logg',\n",
       " 'logg_err1',\n",
       " 'logg_err2',\n",
       " 'logg_prov',\n",
       " 'feh',\n",
       " 'feh_err1',\n",
       " 'feh_err2',\n",
       " 'feh_prov',\n",
       " 'radius',\n",
       " 'radius_err1',\n",
       " 'radius_err2',\n",
       " 'mass',\n",
       " 'mass_err1',\n",
       " 'mass_err2',\n",
       " 'prov_sec',\n",
       " 'nconfp',\n",
       " 'nkoi',\n",
       " 'ntce',\n",
       " 'jmag',\n",
       " 'hmag',\n",
       " 'kmag',\n",
       " 'planet?',\n",
       " 'solution_id',\n",
       " 'designation',\n",
       " 'source_id',\n",
       " 'random_index',\n",
       " 'ref_epoch',\n",
       " 'ra',\n",
       " 'ra_error',\n",
       " 'dec',\n",
       " 'dec_error',\n",
       " 'parallax',\n",
       " 'parallax_error',\n",
       " 'parallax_over_error',\n",
       " 'pm',\n",
       " 'pmra',\n",
       " 'pmra_error',\n",
       " 'pmdec',\n",
       " 'pmdec_error',\n",
       " 'ra_dec_corr',\n",
       " 'ra_parallax_corr',\n",
       " 'ra_pmra_corr',\n",
       " 'ra_pmdec_corr',\n",
       " 'dec_parallax_corr',\n",
       " 'dec_pmra_corr',\n",
       " 'dec_pmdec_corr',\n",
       " 'parallax_pmra_corr',\n",
       " 'parallax_pmdec_corr',\n",
       " 'pmra_pmdec_corr',\n",
       " 'astrometric_n_obs_al',\n",
       " 'astrometric_n_obs_ac',\n",
       " 'astrometric_n_good_obs_al',\n",
       " 'astrometric_n_bad_obs_al',\n",
       " 'astrometric_gof_al',\n",
       " 'astrometric_chi2_al',\n",
       " 'astrometric_excess_noise',\n",
       " 'astrometric_excess_noise_sig',\n",
       " 'astrometric_params_solved',\n",
       " 'astrometric_primary_flag',\n",
       " 'nu_eff_used_in_astrometry',\n",
       " 'pseudocolour',\n",
       " 'pseudocolour_error',\n",
       " 'ra_pseudocolour_corr',\n",
       " 'dec_pseudocolour_corr',\n",
       " 'parallax_pseudocolour_corr',\n",
       " 'pmra_pseudocolour_corr',\n",
       " 'pmdec_pseudocolour_corr',\n",
       " 'astrometric_matched_transits',\n",
       " 'visibility_periods_used',\n",
       " 'astrometric_sigma5d_max',\n",
       " 'matched_transits',\n",
       " 'new_matched_transits',\n",
       " 'matched_transits_removed',\n",
       " 'ipd_gof_harmonic_amplitude',\n",
       " 'ipd_gof_harmonic_phase',\n",
       " 'ipd_frac_multi_peak',\n",
       " 'ipd_frac_odd_win',\n",
       " 'ruwe',\n",
       " 'scan_direction_strength_k1',\n",
       " 'scan_direction_strength_k2',\n",
       " 'scan_direction_strength_k3',\n",
       " 'scan_direction_strength_k4',\n",
       " 'scan_direction_mean_k1',\n",
       " 'scan_direction_mean_k2',\n",
       " 'scan_direction_mean_k3',\n",
       " 'scan_direction_mean_k4',\n",
       " 'duplicated_source',\n",
       " 'phot_g_n_obs',\n",
       " 'phot_g_mean_flux',\n",
       " 'phot_g_mean_flux_error',\n",
       " 'phot_g_mean_flux_over_error',\n",
       " 'phot_g_mean_mag',\n",
       " 'phot_bp_n_obs',\n",
       " 'phot_bp_mean_flux',\n",
       " 'phot_bp_mean_flux_error',\n",
       " 'phot_bp_mean_flux_over_error',\n",
       " 'phot_bp_mean_mag',\n",
       " 'phot_rp_n_obs',\n",
       " 'phot_rp_mean_flux',\n",
       " 'phot_rp_mean_flux_error',\n",
       " 'phot_rp_mean_flux_over_error',\n",
       " 'phot_rp_mean_mag',\n",
       " 'phot_bp_n_contaminated_transits',\n",
       " 'phot_bp_n_blended_transits',\n",
       " 'phot_rp_n_contaminated_transits',\n",
       " 'phot_rp_n_blended_transits',\n",
       " 'phot_proc_mode',\n",
       " 'phot_bp_rp_excess_factor',\n",
       " 'bp_rp',\n",
       " 'bp_g',\n",
       " 'g_rp',\n",
       " 'dr2_radial_velocity',\n",
       " 'dr2_radial_velocity_error',\n",
       " 'dr2_rv_nb_transits',\n",
       " 'dr2_rv_template_teff',\n",
       " 'dr2_rv_template_logg',\n",
       " 'dr2_rv_template_fe_h',\n",
       " 'l',\n",
       " 'b',\n",
       " 'ecl_lon',\n",
       " 'ecl_lat',\n",
       " 'kepler_oid',\n",
       " 'ra_kic',\n",
       " 'dec_kic',\n",
       " 'angdist',\n",
       " 'kepler_gaia_ang_dist',\n",
       " 'ra_bailer-jones',\n",
       " 'dec_bailer-jones',\n",
       " 'r_med_geo',\n",
       " 'r_lo_geo',\n",
       " 'r_hi_geo',\n",
       " 'r_med_photogeo',\n",
       " 'r_lo_photogeo',\n",
       " 'r_hi_photogeo',\n",
       " 'bp_rp_bailer-jones',\n",
       " 'qg_geo',\n",
       " 'gq_photogeo',\n",
       " 'parallax_uncorr',\n",
       " 'LAMOST_RV',\n",
       " 'LAMOST_RV_ERR',\n",
       " 'LAMOST_DESIGNATION',\n",
       " 'LAMOST_TEFF',\n",
       " 'LAMOST_TEFF_ERR',\n",
       " 'gaia_lamost_angular_separation_arcsec',\n",
       " 'dr2_source_id',\n",
       " 'APOGEE_RV',\n",
       " 'APOGEE_RV_ERR',\n",
       " 'APOGEE_TEFF',\n",
       " 'APOGEE_TEFF_ERR',\n",
       " 'VSCATTER',\n",
       " 'APOGEE_ID',\n",
       " 'lamost_corrected_rv',\n",
       " 'apogee_corrected_rv',\n",
       " 'rv',\n",
       " 'rv_err',\n",
       " 'vx',\n",
       " 'vy',\n",
       " 'vz',\n",
       " 'x',\n",
       " 'y',\n",
       " 'z',\n",
       " 'ebv',\n",
       " 'Av',\n",
       " 'Av_errp',\n",
       " 'Av_errm',\n",
       " 'Av_std',\n",
       " 'bp_dered',\n",
       " 'rp_dered',\n",
       " 'bprp_dered',\n",
       " 'G_dered',\n",
       " 'abs_G',\n",
       " 'color_teffs',\n",
       " 'Unnamed: 0_y',\n",
       " 'Unnamed: 0.1',\n",
       " 'Unnamed: 0.1.1',\n",
       " 'vx_inferred',\n",
       " 'vx_inferred_errp',\n",
       " 'vx_inferred_errm',\n",
       " 'vx_inferred_err',\n",
       " 'vx_random',\n",
       " 'vy_inferred',\n",
       " 'vy_inferred_errp',\n",
       " 'vy_inferred_errm',\n",
       " 'vy_inferred_err',\n",
       " 'vy_random',\n",
       " 'vz_inferred',\n",
       " 'vz_inferred_errp',\n",
       " 'vz_inferred_errm',\n",
       " 'vz_inferred_err',\n",
       " 'vz_random',\n",
       " 'lndistance_inferred',\n",
       " 'lndistance_inferred_errp',\n",
       " 'lndistance_inferred_errm',\n",
       " 'lndistance_inferred_err',\n",
       " 'lndistance_random',\n",
       " 'vxvx_covar',\n",
       " 'vxvy_covar',\n",
       " 'vxvz_covar',\n",
       " 'vxlnd_covar',\n",
       " 'vyvy_covar',\n",
       " 'vyvz_covar',\n",
       " 'vylnd_covar',\n",
       " 'vzvz_covar',\n",
       " 'vzlnd_covar',\n",
       " 'lndlnd_covar']"
      ]
     },
     "execution_count": 16,
     "metadata": {},
     "output_type": "execute_result"
    }
   ],
   "source": [
    "[k for k in df.keys()]"
   ]
  },
  {
   "cell_type": "code",
   "execution_count": null,
   "metadata": {},
   "outputs": [],
   "source": []
  }
 ],
 "metadata": {
  "kernelspec": {
   "display_name": "Python 3",
   "language": "python",
   "name": "python3"
  },
  "language_info": {
   "codemirror_mode": {
    "name": "ipython",
    "version": 3
   },
   "file_extension": ".py",
   "mimetype": "text/x-python",
   "name": "python",
   "nbconvert_exporter": "python",
   "pygments_lexer": "ipython3",
   "version": "3.7.6"
  }
 },
 "nbformat": 4,
 "nbformat_minor": 4
}
