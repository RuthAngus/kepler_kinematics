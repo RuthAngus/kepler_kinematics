{
 "cells": [
  {
   "cell_type": "markdown",
   "metadata": {},
   "source": [
    "# Making the table for the paper"
   ]
  },
  {
   "cell_type": "code",
   "execution_count": 2,
   "metadata": {},
   "outputs": [],
   "source": [
    "import numpy as np\n",
    "import pandas as pd\n",
    "import matplotlib.pyplot as plt\n",
    "%matplotlib inline"
   ]
  },
  {
   "cell_type": "code",
   "execution_count": 3,
   "metadata": {},
   "outputs": [],
   "source": [
    "data = pd.read_csv(\"../data/data.csv\")"
   ]
  },
  {
   "cell_type": "code",
   "execution_count": 4,
   "metadata": {},
   "outputs": [],
   "source": [
    "results = pd.read_csv(\"../data/total_results.csv\")"
   ]
  },
  {
   "cell_type": "code",
   "execution_count": 5,
   "metadata": {},
   "outputs": [
    {
     "data": {
      "text/plain": [
       "Index(['Unnamed: 0', 'Unnamed: 0.1', 'Unnamed: 0.1.1', 'kepid', 'vx_inferred',\n",
       "       'vx_inferred_errp', 'vx_inferred_errm', 'vx_inferred_err', 'vx_random',\n",
       "       'vy_inferred', 'vy_inferred_errp', 'vy_inferred_errm',\n",
       "       'vy_inferred_err', 'vy_random', 'vz_inferred', 'vz_inferred_errp',\n",
       "       'vz_inferred_errm', 'vz_inferred_err', 'vz_random',\n",
       "       'lndistance_inferred', 'lndistance_inferred_errp',\n",
       "       'lndistance_inferred_errm', 'lndistance_inferred_err',\n",
       "       'lndistance_random', 'vxvx_covar', 'vxvy_covar', 'vxvz_covar',\n",
       "       'vxlnd_covar', 'vyvy_covar', 'vyvz_covar', 'vylnd_covar', 'vzvz_covar',\n",
       "       'vzlnd_covar', 'lndlnd_covar'],\n",
       "      dtype='object')"
      ]
     },
     "execution_count": 5,
     "metadata": {},
     "output_type": "execute_result"
    }
   ],
   "source": [
    "results.keys()"
   ]
  },
  {
   "cell_type": "code",
   "execution_count": 16,
   "metadata": {},
   "outputs": [
    {
     "name": "stdout",
     "output_type": "stream",
     "text": [
      "(148591, 180) (148591, 34) (148591, 213)\n"
     ]
    }
   ],
   "source": [
    "df = pd.merge(data, results, on=\"kepid\", how=\"right\")\n",
    "print(np.shape(data), np.shape(results), np.shape(df))\n",
    "m = np.isfinite(df.kepid.values)\n",
    "df = df.iloc[m]"
   ]
  },
  {
   "cell_type": "code",
   "execution_count": 166,
   "metadata": {},
   "outputs": [],
   "source": [
    "from math import floor\n",
    "from tqdm import trange\n",
    "\n",
    "def get_sig(x):\n",
    "    return abs(int(floor(np.log10(abs(x)))))\n",
    "\n",
    "def round_err_and_val(val, err):\n",
    "    sig = get_sig(err) # Get number of dec. places in the uncertainty for 1 sig. fig.\n",
    "    rounded_err = round(err, sig)\n",
    "    sig = get_sig(rounded_err) # Repeat in case rounding reduces dec. places.\n",
    "    return round(val, sig), rounded_err\n",
    "\n",
    "def round_list(vals, errs):\n",
    "    val_list, err_list = [np.zeros(len(df)) for i in range(2)]\n",
    "    for i in trange(len(vals)):\n",
    "        val, err = round_err_and_val(vals[i], errs[i])\n",
    "        val_list[i] = val\n",
    "        err_list[i] = err\n",
    "    return val_list, err_list\n",
    "\n",
    "def round_list_nans(vals, errs):\n",
    "    val_list, err_list = [np.zeros(len(df)) for i in range(2)]\n",
    "    for i in trange(len(vals)):\n",
    "        if np.isfinite(vals[i]) and np.isfinite(errs[i]):\n",
    "            val, err = round_err_and_val(vals[i], errs[i])\n",
    "            val_list[i] = val\n",
    "            err_list[i] = err\n",
    "        else:\n",
    "            val_list[i] = vals[i]\n",
    "            err_list[i] = errs[i]\n",
    "    return val_list, err_list"
   ]
  },
  {
   "cell_type": "code",
   "execution_count": 131,
   "metadata": {},
   "outputs": [
    {
     "name": "stderr",
     "output_type": "stream",
     "text": [
      "100%|██████████| 148590/148590 [00:01<00:00, 78816.13it/s]\n"
     ]
    }
   ],
   "source": [
    "ra, ra_error = round_list(df.ra.values, df.ra_error.values)"
   ]
  },
  {
   "cell_type": "code",
   "execution_count": 132,
   "metadata": {},
   "outputs": [
    {
     "name": "stderr",
     "output_type": "stream",
     "text": [
      "100%|██████████| 148590/148590 [00:01<00:00, 80119.96it/s]\n"
     ]
    }
   ],
   "source": [
    "dec, dec_error = round_list(df.dec.values, df.dec_error.values)"
   ]
  },
  {
   "cell_type": "code",
   "execution_count": 133,
   "metadata": {},
   "outputs": [
    {
     "name": "stderr",
     "output_type": "stream",
     "text": [
      "100%|██████████| 148590/148590 [00:01<00:00, 79217.74it/s]\n"
     ]
    }
   ],
   "source": [
    "parallax, parallax_error = round_list(df.parallax.values, df.parallax_error.values)"
   ]
  },
  {
   "cell_type": "code",
   "execution_count": null,
   "metadata": {},
   "outputs": [],
   "source": []
  },
  {
   "cell_type": "code",
   "execution_count": 156,
   "metadata": {},
   "outputs": [],
   "source": [
    "distance = np.array([round(i, 1) for i in df.r_med_photogeo.values])\n",
    "distance_lo = np.array([round(i, 1) for i in df.r_lo_photogeo.values])\n",
    "distance_hi = np.array([round(i, 1) for i in df.r_hi_photogeo.values])"
   ]
  },
  {
   "cell_type": "code",
   "execution_count": null,
   "metadata": {},
   "outputs": [],
   "source": []
  },
  {
   "cell_type": "code",
   "execution_count": 152,
   "metadata": {},
   "outputs": [],
   "source": [
    "kepid = np.array([int(i) for i in df.kepid.values])"
   ]
  },
  {
   "cell_type": "code",
   "execution_count": 155,
   "metadata": {},
   "outputs": [],
   "source": [
    "source_id = np.array([int(i) for i in df.source_id.values])"
   ]
  },
  {
   "cell_type": "code",
   "execution_count": 157,
   "metadata": {},
   "outputs": [
    {
     "name": "stderr",
     "output_type": "stream",
     "text": [
      "100%|██████████| 148590/148590 [00:01<00:00, 77266.03it/s]\n"
     ]
    }
   ],
   "source": [
    "pmra, pmra_error = round_list(df.pmra.values, df.pmra_error.values)"
   ]
  },
  {
   "cell_type": "code",
   "execution_count": 158,
   "metadata": {},
   "outputs": [
    {
     "name": "stderr",
     "output_type": "stream",
     "text": [
      "100%|██████████| 148590/148590 [00:01<00:00, 79527.73it/s]\n"
     ]
    }
   ],
   "source": [
    "pmdec, pmdec_error = round_list(df.pmdec.values, df.pmdec_error.values)"
   ]
  },
  {
   "cell_type": "code",
   "execution_count": 167,
   "metadata": {},
   "outputs": [
    {
     "name": "stderr",
     "output_type": "stream",
     "text": [
      "100%|██████████| 148590/148590 [00:00<00:00, 237060.16it/s]\n"
     ]
    }
   ],
   "source": [
    "dr2_radial_velocity, dr2_radial_velocity_error = round_list_nans(df.dr2_radial_velocity.values,\n",
    "                                                                 df.dr2_radial_velocity_error.values)"
   ]
  },
  {
   "cell_type": "code",
   "execution_count": 172,
   "metadata": {},
   "outputs": [
    {
     "name": "stderr",
     "output_type": "stream",
     "text": [
      "100%|██████████| 148590/148590 [00:00<00:00, 328974.14it/s]\n"
     ]
    }
   ],
   "source": [
    "apogee_corrected_rv, APOGEE_RV_ERR = round_list_nans(df.apogee_corrected_rv.values,\n",
    "                                                df.APOGEE_RV_ERR.values)"
   ]
  },
  {
   "cell_type": "code",
   "execution_count": 173,
   "metadata": {},
   "outputs": [
    {
     "name": "stderr",
     "output_type": "stream",
     "text": [
      "100%|██████████| 148590/148590 [00:00<00:00, 290126.31it/s]\n"
     ]
    }
   ],
   "source": [
    "lamost_corrected_rv, LAMOST_RV_ERR = round_list_nans(df.lamost_corrected_rv.values,\n",
    "                                                df.LAMOST_RV_ERR.values)"
   ]
  },
  {
   "cell_type": "code",
   "execution_count": 174,
   "metadata": {},
   "outputs": [
    {
     "name": "stderr",
     "output_type": "stream",
     "text": [
      "100%|██████████| 148590/148590 [00:00<00:00, 155607.76it/s]\n"
     ]
    }
   ],
   "source": [
    "vx_inferred, vx_inferred_err = round_list(df.vx_inferred.values,\n",
    "                                          df.vx_inferred_err.values)"
   ]
  },
  {
   "cell_type": "code",
   "execution_count": 175,
   "metadata": {},
   "outputs": [
    {
     "name": "stderr",
     "output_type": "stream",
     "text": [
      "100%|██████████| 148590/148590 [00:01<00:00, 79067.22it/s]\n"
     ]
    }
   ],
   "source": [
    "vy_inferred, vy_inferred_err = round_list(df.vy_inferred.values,\n",
    "                                          df.vy_inferred_err.values)"
   ]
  },
  {
   "cell_type": "code",
   "execution_count": 176,
   "metadata": {},
   "outputs": [
    {
     "name": "stderr",
     "output_type": "stream",
     "text": [
      "100%|██████████| 148590/148590 [00:00<00:00, 150138.53it/s]\n"
     ]
    }
   ],
   "source": [
    "vz_inferred, vz_inferred_err = round_list(df.vz_inferred.values,\n",
    "                                          df.vz_inferred_err.values)"
   ]
  },
  {
   "cell_type": "code",
   "execution_count": 186,
   "metadata": {},
   "outputs": [],
   "source": [
    "def sig_figs(x, sig_figs=2):\n",
    "    x_arr = np.zeros(len(x))\n",
    "    for i in trange(len(x)):\n",
    "        if np.isfinite(x[i]):\n",
    "            x_arr[i] = round(x[i], sig_figs)\n",
    "        else:\n",
    "            x_arr[i] = x[i]\n",
    "    return x_arr"
   ]
  },
  {
   "cell_type": "code",
   "execution_count": 187,
   "metadata": {},
   "outputs": [
    {
     "name": "stderr",
     "output_type": "stream",
     "text": [
      "100%|██████████| 148590/148590 [00:00<00:00, 311422.58it/s]\n",
      "100%|██████████| 148590/148590 [00:00<00:00, 313267.52it/s]\n",
      "100%|██████████| 148590/148590 [00:00<00:00, 319729.27it/s]\n"
     ]
    }
   ],
   "source": [
    "vx = sig_figs(df.vx.values)\n",
    "vy = sig_figs(df.vy.values)\n",
    "vz = sig_figs(df.vz.values)\n"
   ]
  },
  {
   "cell_type": "code",
   "execution_count": 194,
   "metadata": {},
   "outputs": [
    {
     "name": "stderr",
     "output_type": "stream",
     "text": [
      "100%|██████████| 148590/148590 [00:00<00:00, 161694.01it/s]\n",
      "100%|██████████| 148590/148590 [00:00<00:00, 161850.68it/s]\n",
      "100%|██████████| 148590/148590 [00:00<00:00, 166007.49it/s]\n",
      "100%|██████████| 148590/148590 [00:00<00:00, 163619.43it/s]\n",
      "100%|██████████| 148590/148590 [00:00<00:00, 166976.06it/s]\n",
      "100%|██████████| 148590/148590 [00:00<00:00, 164862.44it/s]\n"
     ]
    }
   ],
   "source": [
    "vxvy_covar = sig_figs(df.vxvy_covar.values)\n",
    "vxvz_covar = sig_figs(df.vxvz_covar.values)\n",
    "vxlnd_covar = sig_figs(df.vxlnd_covar.values)\n",
    "vyvz_covar = sig_figs(df.vyvz_covar.values)\n",
    "vylnd_covar = sig_figs(df.vylnd_covar.values)\n",
    "vzlnd_covar = sig_figs(df.vzlnd_covar.values)"
   ]
  },
  {
   "cell_type": "code",
   "execution_count": 195,
   "metadata": {},
   "outputs": [
    {
     "data": {
      "text/plain": [
       "array([24.14, 25.82, 50.88, ..., 43.96, 26.15, 29.14])"
      ]
     },
     "execution_count": 195,
     "metadata": {},
     "output_type": "execute_result"
    }
   ],
   "source": [
    "vxvz"
   ]
  },
  {
   "cell_type": "code",
   "execution_count": 196,
   "metadata": {},
   "outputs": [],
   "source": [
    "table = pd.DataFrame(dict({\"kic_id\": kepid,\n",
    "                           \"source_id\": source_id,\n",
    "                           \"ra\": ra, \"ra_error\": ra_error,\n",
    "                           \"dec\": dec, \"dec_error\": dec_error,\n",
    "                           \"parallax\": parallax, \"parallax_error\": parallax_error,\n",
    "                           \"r_med_photogeo\": distance,\n",
    "                           \"r_lo_photogeo\": distance_lo,\n",
    "                           \"r_hi_photogeo\": distance_hi,\n",
    "                           \"pmra\": pmra, \"pmra_error\": pmra,\n",
    "                           \"pmdec\": pmdec, \"pmdec_error\": pmdec,\n",
    "                           \"gaia_dr2_rv\": dr2_radial_velocity,\n",
    "                           \"gaia_dr2_rv_error\": dr2_radial_velocity_error,\n",
    "                           \"apogee_rv\": apogee_corrected_rv, \"apogee_rv_error\": APOGEE_RV_ERR,\n",
    "                           \"lamost_rv\": lamost_corrected_rv, \"lamost_rv_error\": LAMOST_RV_ERR,\n",
    "                           \"vx_calc\": vx, \"vx_inferred\": vx_inferred, \"vx_inferred_error\": vx_inferred_err,\n",
    "                           \"vy_calc\": vy, \"vy_inferred\": vy_inferred, \"vy_inferred_error\": vy_inferred_err,\n",
    "                           \"vz_calc\": vz, \"vz_inferred\": vz_inferred, \"vz_inferred_error\": vz_inferred_err,\n",
    "                           \"vxvy_covar\": vxvy_covar,\n",
    "                           \"vxvz_covar\": vxvz_covar,\n",
    "                           \"vxlnd_covar\": vxlnd_covar,\n",
    "                           \"vyvz_covar\": vyvz_covar,\n",
    "                           \"vylnd_covar\": vylnd_covar,\n",
    "                           \"vzlnd_covar\": vzlnd_covar\n",
    "                          }))\n",
    "\n",
    "table.to_csv(\"../data/final_paper_table.csv\")"
   ]
  },
  {
   "cell_type": "code",
   "execution_count": 197,
   "metadata": {},
   "outputs": [
    {
     "data": {
      "text/plain": [
       "148590"
      ]
     },
     "execution_count": 197,
     "metadata": {},
     "output_type": "execute_result"
    }
   ],
   "source": [
    "len(table)"
   ]
  },
  {
   "cell_type": "code",
   "execution_count": 24,
   "metadata": {},
   "outputs": [
    {
     "data": {
      "text/plain": [
       "['gaia_lamost_angular_separation_arcsec', 'lamost_corrected_rv']"
      ]
     },
     "execution_count": 24,
     "metadata": {},
     "output_type": "execute_result"
    }
   ],
   "source": [
    "[col for col in df.columns if \"lam\" in col]"
   ]
  },
  {
   "cell_type": "code",
   "execution_count": 16,
   "metadata": {},
   "outputs": [
    {
     "data": {
      "text/plain": [
       "['Unnamed: 0_x',\n",
       " 'kepid',\n",
       " 'tm_designation',\n",
       " 'kepmag',\n",
       " 'teff',\n",
       " 'teff_err1',\n",
       " 'teff_err2',\n",
       " 'teff_prov',\n",
       " 'logg',\n",
       " 'logg_err1',\n",
       " 'logg_err2',\n",
       " 'logg_prov',\n",
       " 'feh',\n",
       " 'feh_err1',\n",
       " 'feh_err2',\n",
       " 'feh_prov',\n",
       " 'radius',\n",
       " 'radius_err1',\n",
       " 'radius_err2',\n",
       " 'mass',\n",
       " 'mass_err1',\n",
       " 'mass_err2',\n",
       " 'prov_sec',\n",
       " 'nconfp',\n",
       " 'nkoi',\n",
       " 'ntce',\n",
       " 'jmag',\n",
       " 'hmag',\n",
       " 'kmag',\n",
       " 'planet?',\n",
       " 'solution_id',\n",
       " 'designation',\n",
       " 'source_id',\n",
       " 'random_index',\n",
       " 'ref_epoch',\n",
       " 'ra',\n",
       " 'ra_error',\n",
       " 'dec',\n",
       " 'dec_error',\n",
       " 'parallax',\n",
       " 'parallax_error',\n",
       " 'parallax_over_error',\n",
       " 'pm',\n",
       " 'pmra',\n",
       " 'pmra_error',\n",
       " 'pmdec',\n",
       " 'pmdec_error',\n",
       " 'ra_dec_corr',\n",
       " 'ra_parallax_corr',\n",
       " 'ra_pmra_corr',\n",
       " 'ra_pmdec_corr',\n",
       " 'dec_parallax_corr',\n",
       " 'dec_pmra_corr',\n",
       " 'dec_pmdec_corr',\n",
       " 'parallax_pmra_corr',\n",
       " 'parallax_pmdec_corr',\n",
       " 'pmra_pmdec_corr',\n",
       " 'astrometric_n_obs_al',\n",
       " 'astrometric_n_obs_ac',\n",
       " 'astrometric_n_good_obs_al',\n",
       " 'astrometric_n_bad_obs_al',\n",
       " 'astrometric_gof_al',\n",
       " 'astrometric_chi2_al',\n",
       " 'astrometric_excess_noise',\n",
       " 'astrometric_excess_noise_sig',\n",
       " 'astrometric_params_solved',\n",
       " 'astrometric_primary_flag',\n",
       " 'nu_eff_used_in_astrometry',\n",
       " 'pseudocolour',\n",
       " 'pseudocolour_error',\n",
       " 'ra_pseudocolour_corr',\n",
       " 'dec_pseudocolour_corr',\n",
       " 'parallax_pseudocolour_corr',\n",
       " 'pmra_pseudocolour_corr',\n",
       " 'pmdec_pseudocolour_corr',\n",
       " 'astrometric_matched_transits',\n",
       " 'visibility_periods_used',\n",
       " 'astrometric_sigma5d_max',\n",
       " 'matched_transits',\n",
       " 'new_matched_transits',\n",
       " 'matched_transits_removed',\n",
       " 'ipd_gof_harmonic_amplitude',\n",
       " 'ipd_gof_harmonic_phase',\n",
       " 'ipd_frac_multi_peak',\n",
       " 'ipd_frac_odd_win',\n",
       " 'ruwe',\n",
       " 'scan_direction_strength_k1',\n",
       " 'scan_direction_strength_k2',\n",
       " 'scan_direction_strength_k3',\n",
       " 'scan_direction_strength_k4',\n",
       " 'scan_direction_mean_k1',\n",
       " 'scan_direction_mean_k2',\n",
       " 'scan_direction_mean_k3',\n",
       " 'scan_direction_mean_k4',\n",
       " 'duplicated_source',\n",
       " 'phot_g_n_obs',\n",
       " 'phot_g_mean_flux',\n",
       " 'phot_g_mean_flux_error',\n",
       " 'phot_g_mean_flux_over_error',\n",
       " 'phot_g_mean_mag',\n",
       " 'phot_bp_n_obs',\n",
       " 'phot_bp_mean_flux',\n",
       " 'phot_bp_mean_flux_error',\n",
       " 'phot_bp_mean_flux_over_error',\n",
       " 'phot_bp_mean_mag',\n",
       " 'phot_rp_n_obs',\n",
       " 'phot_rp_mean_flux',\n",
       " 'phot_rp_mean_flux_error',\n",
       " 'phot_rp_mean_flux_over_error',\n",
       " 'phot_rp_mean_mag',\n",
       " 'phot_bp_n_contaminated_transits',\n",
       " 'phot_bp_n_blended_transits',\n",
       " 'phot_rp_n_contaminated_transits',\n",
       " 'phot_rp_n_blended_transits',\n",
       " 'phot_proc_mode',\n",
       " 'phot_bp_rp_excess_factor',\n",
       " 'bp_rp',\n",
       " 'bp_g',\n",
       " 'g_rp',\n",
       " 'dr2_radial_velocity',\n",
       " 'dr2_radial_velocity_error',\n",
       " 'dr2_rv_nb_transits',\n",
       " 'dr2_rv_template_teff',\n",
       " 'dr2_rv_template_logg',\n",
       " 'dr2_rv_template_fe_h',\n",
       " 'l',\n",
       " 'b',\n",
       " 'ecl_lon',\n",
       " 'ecl_lat',\n",
       " 'kepler_oid',\n",
       " 'ra_kic',\n",
       " 'dec_kic',\n",
       " 'angdist',\n",
       " 'kepler_gaia_ang_dist',\n",
       " 'ra_bailer-jones',\n",
       " 'dec_bailer-jones',\n",
       " 'r_med_geo',\n",
       " 'r_lo_geo',\n",
       " 'r_hi_geo',\n",
       " 'r_med_photogeo',\n",
       " 'r_lo_photogeo',\n",
       " 'r_hi_photogeo',\n",
       " 'bp_rp_bailer-jones',\n",
       " 'qg_geo',\n",
       " 'gq_photogeo',\n",
       " 'parallax_uncorr',\n",
       " 'LAMOST_RV',\n",
       " 'LAMOST_RV_ERR',\n",
       " 'LAMOST_DESIGNATION',\n",
       " 'LAMOST_TEFF',\n",
       " 'LAMOST_TEFF_ERR',\n",
       " 'gaia_lamost_angular_separation_arcsec',\n",
       " 'dr2_source_id',\n",
       " 'APOGEE_RV',\n",
       " 'APOGEE_RV_ERR',\n",
       " 'APOGEE_TEFF',\n",
       " 'APOGEE_TEFF_ERR',\n",
       " 'VSCATTER',\n",
       " 'APOGEE_ID',\n",
       " 'lamost_corrected_rv',\n",
       " 'apogee_corrected_rv',\n",
       " 'rv',\n",
       " 'rv_err',\n",
       " 'vx',\n",
       " 'vy',\n",
       " 'vz',\n",
       " 'x',\n",
       " 'y',\n",
       " 'z',\n",
       " 'ebv',\n",
       " 'Av',\n",
       " 'Av_errp',\n",
       " 'Av_errm',\n",
       " 'Av_std',\n",
       " 'bp_dered',\n",
       " 'rp_dered',\n",
       " 'bprp_dered',\n",
       " 'G_dered',\n",
       " 'abs_G',\n",
       " 'color_teffs',\n",
       " 'Unnamed: 0_y',\n",
       " 'Unnamed: 0.1',\n",
       " 'Unnamed: 0.1.1',\n",
       " 'vx_inferred',\n",
       " 'vx_inferred_errp',\n",
       " 'vx_inferred_errm',\n",
       " 'vx_inferred_err',\n",
       " 'vx_random',\n",
       " 'vy_inferred',\n",
       " 'vy_inferred_errp',\n",
       " 'vy_inferred_errm',\n",
       " 'vy_inferred_err',\n",
       " 'vy_random',\n",
       " 'vz_inferred',\n",
       " 'vz_inferred_errp',\n",
       " 'vz_inferred_errm',\n",
       " 'vz_inferred_err',\n",
       " 'vz_random',\n",
       " 'lndistance_inferred',\n",
       " 'lndistance_inferred_errp',\n",
       " 'lndistance_inferred_errm',\n",
       " 'lndistance_inferred_err',\n",
       " 'lndistance_random',\n",
       " 'vxvx_covar',\n",
       " 'vxvy_covar',\n",
       " 'vxvz_covar',\n",
       " 'vxlnd_covar',\n",
       " 'vyvy_covar',\n",
       " 'vyvz_covar',\n",
       " 'vylnd_covar',\n",
       " 'vzvz_covar',\n",
       " 'vzlnd_covar',\n",
       " 'lndlnd_covar']"
      ]
     },
     "execution_count": 16,
     "metadata": {},
     "output_type": "execute_result"
    }
   ],
   "source": [
    "[k for k in df.keys()]"
   ]
  },
  {
   "cell_type": "code",
   "execution_count": null,
   "metadata": {},
   "outputs": [],
   "source": []
  }
 ],
 "metadata": {
  "kernelspec": {
   "display_name": "Python 3",
   "language": "python",
   "name": "python3"
  },
  "language_info": {
   "codemirror_mode": {
    "name": "ipython",
    "version": 3
   },
   "file_extension": ".py",
   "mimetype": "text/x-python",
   "name": "python",
   "nbconvert_exporter": "python",
   "pygments_lexer": "ipython3",
   "version": "3.7.6"
  }
 },
 "nbformat": 4,
 "nbformat_minor": 4
}
