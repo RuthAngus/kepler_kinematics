{
 "cells": [
  {
   "cell_type": "markdown",
   "metadata": {},
   "source": [
    "# The residuals plot in the paper."
   ]
  },
  {
   "cell_type": "code",
   "execution_count": 9,
   "metadata": {},
   "outputs": [],
   "source": [
    "%matplotlib inline"
   ]
  },
  {
   "cell_type": "code",
   "execution_count": 10,
   "metadata": {},
   "outputs": [],
   "source": [
    "import numpy as np\n",
    "import pandas as pd\n",
    "import matplotlib.pyplot as plt\n",
    "import matplotlib\n",
    "\n",
    "from matplotlib import gridspec\n",
    "\n",
    "import kepler_kinematics as kek\n",
    "from scipy.stats import multivariate_normal\n",
    "\n",
    "plotpar = {'axes.labelsize': 16,\n",
    "           'font.size': 22,\n",
    "           'legend.fontsize': 15,\n",
    "           'xtick.labelsize': 10,\n",
    "           'ytick.labelsize': 10,\n",
    "           'text.usetex': True}\n",
    "plt.rcParams.update(plotpar)"
   ]
  },
  {
   "cell_type": "markdown",
   "metadata": {},
   "source": [
    "Load the data file."
   ]
  },
  {
   "cell_type": "code",
   "execution_count": 11,
   "metadata": {},
   "outputs": [],
   "source": [
    "# df = pd.read_csv(\"../kepler_kinematics/gaia_kepler_lamost.csv\")\n",
    "df = pd.read_csv(\"../data/data.csv\")"
   ]
  },
  {
   "cell_type": "markdown",
   "metadata": {},
   "source": [
    "Load the results file."
   ]
  },
  {
   "cell_type": "code",
   "execution_count": 12,
   "metadata": {},
   "outputs": [],
   "source": [
    "# results = pd.read_csv(\"../data/all_kepler4.csv\")\n",
    "results = pd.read_csv(\"../data/edr3_all.csv\")"
   ]
  },
  {
   "cell_type": "code",
   "execution_count": 13,
   "metadata": {},
   "outputs": [
    {
     "data": {
      "text/html": [
       "<div>\n",
       "<style scoped>\n",
       "    .dataframe tbody tr th:only-of-type {\n",
       "        vertical-align: middle;\n",
       "    }\n",
       "\n",
       "    .dataframe tbody tr th {\n",
       "        vertical-align: top;\n",
       "    }\n",
       "\n",
       "    .dataframe thead th {\n",
       "        text-align: right;\n",
       "    }\n",
       "</style>\n",
       "<table border=\"1\" class=\"dataframe\">\n",
       "  <thead>\n",
       "    <tr style=\"text-align: right;\">\n",
       "      <th></th>\n",
       "      <th>Unnamed: 0</th>\n",
       "      <th>Unnamed: 0.1</th>\n",
       "      <th>kepid</th>\n",
       "      <th>vx_inferred</th>\n",
       "      <th>vx_inferred_errp</th>\n",
       "      <th>vx_inferred_errm</th>\n",
       "      <th>vx_inferred_err</th>\n",
       "      <th>vx_random</th>\n",
       "      <th>vy_inferred</th>\n",
       "      <th>vy_inferred_errp</th>\n",
       "      <th>...</th>\n",
       "      <th>vxvx_covar</th>\n",
       "      <th>vxvy_covar</th>\n",
       "      <th>vxvz_covar</th>\n",
       "      <th>vxlnd_covar</th>\n",
       "      <th>vyvy_covar</th>\n",
       "      <th>vyvz_covar</th>\n",
       "      <th>vylnd_covar</th>\n",
       "      <th>vzvz_covar</th>\n",
       "      <th>vzlnd_covar</th>\n",
       "      <th>lndlnd_covar</th>\n",
       "    </tr>\n",
       "  </thead>\n",
       "  <tbody>\n",
       "    <tr>\n",
       "      <th>0</th>\n",
       "      <td>0</td>\n",
       "      <td>0</td>\n",
       "      <td>10591921</td>\n",
       "      <td>54.178398</td>\n",
       "      <td>3.324511</td>\n",
       "      <td>3.470299</td>\n",
       "      <td>3.489152</td>\n",
       "      <td>52.012670</td>\n",
       "      <td>220.981045</td>\n",
       "      <td>16.707756</td>\n",
       "      <td>...</td>\n",
       "      <td>12.177225</td>\n",
       "      <td>57.086684</td>\n",
       "      <td>17.046223</td>\n",
       "      <td>0.019192</td>\n",
       "      <td>289.641308</td>\n",
       "      <td>85.984152</td>\n",
       "      <td>-0.003067</td>\n",
       "      <td>25.552926</td>\n",
       "      <td>0.001208</td>\n",
       "      <td>0.000430</td>\n",
       "    </tr>\n",
       "    <tr>\n",
       "      <th>1</th>\n",
       "      <td>0</td>\n",
       "      <td>0</td>\n",
       "      <td>7130963</td>\n",
       "      <td>108.744522</td>\n",
       "      <td>7.543210</td>\n",
       "      <td>7.139660</td>\n",
       "      <td>7.289899</td>\n",
       "      <td>112.901083</td>\n",
       "      <td>213.498441</td>\n",
       "      <td>18.856482</td>\n",
       "      <td>...</td>\n",
       "      <td>53.155921</td>\n",
       "      <td>79.028446</td>\n",
       "      <td>19.516722</td>\n",
       "      <td>0.323312</td>\n",
       "      <td>332.676269</td>\n",
       "      <td>56.831128</td>\n",
       "      <td>-0.025085</td>\n",
       "      <td>10.860350</td>\n",
       "      <td>0.053505</td>\n",
       "      <td>0.003169</td>\n",
       "    </tr>\n",
       "    <tr>\n",
       "      <th>2</th>\n",
       "      <td>0</td>\n",
       "      <td>0</td>\n",
       "      <td>11450155</td>\n",
       "      <td>39.448084</td>\n",
       "      <td>2.938416</td>\n",
       "      <td>2.961133</td>\n",
       "      <td>2.943596</td>\n",
       "      <td>39.948906</td>\n",
       "      <td>222.454981</td>\n",
       "      <td>17.493335</td>\n",
       "      <td>...</td>\n",
       "      <td>8.666922</td>\n",
       "      <td>51.187051</td>\n",
       "      <td>15.365172</td>\n",
       "      <td>0.002744</td>\n",
       "      <td>304.724037</td>\n",
       "      <td>91.368282</td>\n",
       "      <td>0.003456</td>\n",
       "      <td>27.402720</td>\n",
       "      <td>0.001603</td>\n",
       "      <td>0.000071</td>\n",
       "    </tr>\n",
       "    <tr>\n",
       "      <th>3</th>\n",
       "      <td>0</td>\n",
       "      <td>0</td>\n",
       "      <td>5002215</td>\n",
       "      <td>4.480696</td>\n",
       "      <td>5.821486</td>\n",
       "      <td>5.908318</td>\n",
       "      <td>5.946607</td>\n",
       "      <td>3.537490</td>\n",
       "      <td>219.738516</td>\n",
       "      <td>17.718298</td>\n",
       "      <td>...</td>\n",
       "      <td>35.370981</td>\n",
       "      <td>107.196464</td>\n",
       "      <td>25.469050</td>\n",
       "      <td>-0.000967</td>\n",
       "      <td>324.914247</td>\n",
       "      <td>77.196439</td>\n",
       "      <td>-0.002951</td>\n",
       "      <td>18.371925</td>\n",
       "      <td>0.001128</td>\n",
       "      <td>0.000125</td>\n",
       "    </tr>\n",
       "    <tr>\n",
       "      <th>4</th>\n",
       "      <td>0</td>\n",
       "      <td>0</td>\n",
       "      <td>10590779</td>\n",
       "      <td>43.304975</td>\n",
       "      <td>3.321631</td>\n",
       "      <td>3.497878</td>\n",
       "      <td>3.406238</td>\n",
       "      <td>37.191568</td>\n",
       "      <td>233.957587</td>\n",
       "      <td>15.992512</td>\n",
       "      <td>...</td>\n",
       "      <td>11.605360</td>\n",
       "      <td>56.806700</td>\n",
       "      <td>17.143585</td>\n",
       "      <td>0.006393</td>\n",
       "      <td>282.823436</td>\n",
       "      <td>85.900506</td>\n",
       "      <td>0.003093</td>\n",
       "      <td>26.161564</td>\n",
       "      <td>-0.002426</td>\n",
       "      <td>0.000176</td>\n",
       "    </tr>\n",
       "    <tr>\n",
       "      <th>...</th>\n",
       "      <td>...</td>\n",
       "      <td>...</td>\n",
       "      <td>...</td>\n",
       "      <td>...</td>\n",
       "      <td>...</td>\n",
       "      <td>...</td>\n",
       "      <td>...</td>\n",
       "      <td>...</td>\n",
       "      <td>...</td>\n",
       "      <td>...</td>\n",
       "      <td>...</td>\n",
       "      <td>...</td>\n",
       "      <td>...</td>\n",
       "      <td>...</td>\n",
       "      <td>...</td>\n",
       "      <td>...</td>\n",
       "      <td>...</td>\n",
       "      <td>...</td>\n",
       "      <td>...</td>\n",
       "      <td>...</td>\n",
       "      <td>...</td>\n",
       "    </tr>\n",
       "    <tr>\n",
       "      <th>4995</th>\n",
       "      <td>0</td>\n",
       "      <td>0</td>\n",
       "      <td>9174647</td>\n",
       "      <td>-3.252775</td>\n",
       "      <td>3.429800</td>\n",
       "      <td>3.315979</td>\n",
       "      <td>3.331943</td>\n",
       "      <td>-2.176586</td>\n",
       "      <td>218.573975</td>\n",
       "      <td>18.984230</td>\n",
       "      <td>...</td>\n",
       "      <td>11.104622</td>\n",
       "      <td>61.044031</td>\n",
       "      <td>9.544404</td>\n",
       "      <td>-0.014178</td>\n",
       "      <td>340.856660</td>\n",
       "      <td>54.759073</td>\n",
       "      <td>-0.012973</td>\n",
       "      <td>9.358390</td>\n",
       "      <td>0.021049</td>\n",
       "      <td>0.001030</td>\n",
       "    </tr>\n",
       "    <tr>\n",
       "      <th>4996</th>\n",
       "      <td>0</td>\n",
       "      <td>0</td>\n",
       "      <td>9071529</td>\n",
       "      <td>-2.872809</td>\n",
       "      <td>4.466299</td>\n",
       "      <td>4.347571</td>\n",
       "      <td>4.453653</td>\n",
       "      <td>-3.836944</td>\n",
       "      <td>219.545889</td>\n",
       "      <td>16.890061</td>\n",
       "      <td>...</td>\n",
       "      <td>19.839981</td>\n",
       "      <td>74.919525</td>\n",
       "      <td>26.237558</td>\n",
       "      <td>-0.000020</td>\n",
       "      <td>282.994980</td>\n",
       "      <td>99.128835</td>\n",
       "      <td>0.001659</td>\n",
       "      <td>34.733402</td>\n",
       "      <td>0.001234</td>\n",
       "      <td>0.000052</td>\n",
       "    </tr>\n",
       "    <tr>\n",
       "      <th>4997</th>\n",
       "      <td>0</td>\n",
       "      <td>0</td>\n",
       "      <td>4269766</td>\n",
       "      <td>115.482420</td>\n",
       "      <td>6.780262</td>\n",
       "      <td>6.736157</td>\n",
       "      <td>6.693560</td>\n",
       "      <td>112.403877</td>\n",
       "      <td>218.877093</td>\n",
       "      <td>18.485804</td>\n",
       "      <td>...</td>\n",
       "      <td>44.814950</td>\n",
       "      <td>104.953095</td>\n",
       "      <td>16.830345</td>\n",
       "      <td>0.106238</td>\n",
       "      <td>333.277850</td>\n",
       "      <td>57.811876</td>\n",
       "      <td>0.002425</td>\n",
       "      <td>10.213467</td>\n",
       "      <td>-0.011928</td>\n",
       "      <td>0.000949</td>\n",
       "    </tr>\n",
       "    <tr>\n",
       "      <th>4998</th>\n",
       "      <td>0</td>\n",
       "      <td>0</td>\n",
       "      <td>2714955</td>\n",
       "      <td>0.642340</td>\n",
       "      <td>6.089424</td>\n",
       "      <td>6.097029</td>\n",
       "      <td>6.262481</td>\n",
       "      <td>5.296345</td>\n",
       "      <td>225.668021</td>\n",
       "      <td>17.488222</td>\n",
       "      <td>...</td>\n",
       "      <td>39.228473</td>\n",
       "      <td>111.684427</td>\n",
       "      <td>20.455275</td>\n",
       "      <td>-0.004775</td>\n",
       "      <td>318.332157</td>\n",
       "      <td>58.296266</td>\n",
       "      <td>-0.003212</td>\n",
       "      <td>10.694744</td>\n",
       "      <td>-0.001572</td>\n",
       "      <td>0.000710</td>\n",
       "    </tr>\n",
       "    <tr>\n",
       "      <th>4999</th>\n",
       "      <td>0</td>\n",
       "      <td>0</td>\n",
       "      <td>10724793</td>\n",
       "      <td>76.800251</td>\n",
       "      <td>3.517163</td>\n",
       "      <td>3.585863</td>\n",
       "      <td>3.561915</td>\n",
       "      <td>73.000304</td>\n",
       "      <td>210.530184</td>\n",
       "      <td>16.844981</td>\n",
       "      <td>...</td>\n",
       "      <td>12.690410</td>\n",
       "      <td>55.060748</td>\n",
       "      <td>16.601133</td>\n",
       "      <td>0.031089</td>\n",
       "      <td>290.321457</td>\n",
       "      <td>83.673933</td>\n",
       "      <td>-0.002602</td>\n",
       "      <td>24.374143</td>\n",
       "      <td>0.009596</td>\n",
       "      <td>0.000447</td>\n",
       "    </tr>\n",
       "  </tbody>\n",
       "</table>\n",
       "<p>5000 rows × 33 columns</p>\n",
       "</div>"
      ],
      "text/plain": [
       "      Unnamed: 0  Unnamed: 0.1     kepid  vx_inferred  vx_inferred_errp  \\\n",
       "0              0             0  10591921    54.178398          3.324511   \n",
       "1              0             0   7130963   108.744522          7.543210   \n",
       "2              0             0  11450155    39.448084          2.938416   \n",
       "3              0             0   5002215     4.480696          5.821486   \n",
       "4              0             0  10590779    43.304975          3.321631   \n",
       "...          ...           ...       ...          ...               ...   \n",
       "4995           0             0   9174647    -3.252775          3.429800   \n",
       "4996           0             0   9071529    -2.872809          4.466299   \n",
       "4997           0             0   4269766   115.482420          6.780262   \n",
       "4998           0             0   2714955     0.642340          6.089424   \n",
       "4999           0             0  10724793    76.800251          3.517163   \n",
       "\n",
       "      vx_inferred_errm  vx_inferred_err   vx_random  vy_inferred  \\\n",
       "0             3.470299         3.489152   52.012670   220.981045   \n",
       "1             7.139660         7.289899  112.901083   213.498441   \n",
       "2             2.961133         2.943596   39.948906   222.454981   \n",
       "3             5.908318         5.946607    3.537490   219.738516   \n",
       "4             3.497878         3.406238   37.191568   233.957587   \n",
       "...                ...              ...         ...          ...   \n",
       "4995          3.315979         3.331943   -2.176586   218.573975   \n",
       "4996          4.347571         4.453653   -3.836944   219.545889   \n",
       "4997          6.736157         6.693560  112.403877   218.877093   \n",
       "4998          6.097029         6.262481    5.296345   225.668021   \n",
       "4999          3.585863         3.561915   73.000304   210.530184   \n",
       "\n",
       "      vy_inferred_errp  ...  vxvx_covar  vxvy_covar  vxvz_covar  vxlnd_covar  \\\n",
       "0            16.707756  ...   12.177225   57.086684   17.046223     0.019192   \n",
       "1            18.856482  ...   53.155921   79.028446   19.516722     0.323312   \n",
       "2            17.493335  ...    8.666922   51.187051   15.365172     0.002744   \n",
       "3            17.718298  ...   35.370981  107.196464   25.469050    -0.000967   \n",
       "4            15.992512  ...   11.605360   56.806700   17.143585     0.006393   \n",
       "...                ...  ...         ...         ...         ...          ...   \n",
       "4995         18.984230  ...   11.104622   61.044031    9.544404    -0.014178   \n",
       "4996         16.890061  ...   19.839981   74.919525   26.237558    -0.000020   \n",
       "4997         18.485804  ...   44.814950  104.953095   16.830345     0.106238   \n",
       "4998         17.488222  ...   39.228473  111.684427   20.455275    -0.004775   \n",
       "4999         16.844981  ...   12.690410   55.060748   16.601133     0.031089   \n",
       "\n",
       "      vyvy_covar  vyvz_covar  vylnd_covar  vzvz_covar  vzlnd_covar  \\\n",
       "0     289.641308   85.984152    -0.003067   25.552926     0.001208   \n",
       "1     332.676269   56.831128    -0.025085   10.860350     0.053505   \n",
       "2     304.724037   91.368282     0.003456   27.402720     0.001603   \n",
       "3     324.914247   77.196439    -0.002951   18.371925     0.001128   \n",
       "4     282.823436   85.900506     0.003093   26.161564    -0.002426   \n",
       "...          ...         ...          ...         ...          ...   \n",
       "4995  340.856660   54.759073    -0.012973    9.358390     0.021049   \n",
       "4996  282.994980   99.128835     0.001659   34.733402     0.001234   \n",
       "4997  333.277850   57.811876     0.002425   10.213467    -0.011928   \n",
       "4998  318.332157   58.296266    -0.003212   10.694744    -0.001572   \n",
       "4999  290.321457   83.673933    -0.002602   24.374143     0.009596   \n",
       "\n",
       "      lndlnd_covar  \n",
       "0         0.000430  \n",
       "1         0.003169  \n",
       "2         0.000071  \n",
       "3         0.000125  \n",
       "4         0.000176  \n",
       "...            ...  \n",
       "4995      0.001030  \n",
       "4996      0.000052  \n",
       "4997      0.000949  \n",
       "4998      0.000710  \n",
       "4999      0.000447  \n",
       "\n",
       "[5000 rows x 33 columns]"
      ]
     },
     "execution_count": 13,
     "metadata": {},
     "output_type": "execute_result"
    }
   ],
   "source": [
    "results"
   ]
  },
  {
   "cell_type": "markdown",
   "metadata": {},
   "source": [
    "Merge the results file and the data file."
   ]
  },
  {
   "cell_type": "code",
   "execution_count": 14,
   "metadata": {},
   "outputs": [],
   "source": [
    "adf = pd.merge(df, results, on=\"kepid\", how=\"right\")"
   ]
  },
  {
   "cell_type": "code",
   "execution_count": 17,
   "metadata": {},
   "outputs": [],
   "source": [
    "def resid_plot(vx, vy, vz, vx_inferred, vy_inferred, vz_inferred, vx_inferred_err, vy_inferred_err, vz_inferred_err,\n",
    "               lndistance_inferred_err, r_est, lndistance_inferred,\n",
    "               ms=3, alpha=.1, box_size=120):\n",
    "\n",
    "    fig = plt.figure(figsize=(16, 6), dpi=200)\n",
    "#     gs = gridspec.GridSpec(2, 3, hspace=.0, wspace=.3, height_ratios=[1, 1])\n",
    "    gs = gridspec.GridSpec(2, 4, hspace=.0, wspace=.4, height_ratios=[1, 1])\n",
    "\n",
    "    ax0 = plt.subplot(gs[0, 0])\n",
    "    xlims = (np.median(vx) - box_size, np.median(vx_inferred) + box_size)\n",
    "    ax0.plot(vx, vx_inferred, \"k.\", ms=ms, alpha=alpha, rasterized=True, zorder=0)\n",
    "    xs = np.linspace(xlims[0], xlims[1], 100)\n",
    "    plt.plot(xs, xs, \"k\", ls=\"--\", zorder=1)\n",
    "    ax0.set_ylim(xlims)\n",
    "    ax0.set_xlim(xlims)\n",
    "    ax0.set_ylabel(\"$\\mathrm{V_x~inferred~[kms^{-1}]}$\")\n",
    "    ax0.set_xticklabels([])\n",
    "\n",
    "    ax1 = plt.subplot(gs[0, 1])\n",
    "    ylims = (np.median(vy) - box_size, np.median(vy_inferred) + box_size)\n",
    "    ax1.plot(vy, vy_inferred, \"k.\", ms=ms, alpha=alpha, rasterized=True, zorder=0)\n",
    "    xs = np.linspace(ylims[0], ylims[1], 100)\n",
    "    plt.plot(xs, xs, \"k\", ls=\"--\", zorder=1)\n",
    "    ax1.set_xlim(ylims)\n",
    "    ax1.set_ylim(ylims)\n",
    "    ax1.set_ylabel(\"$\\mathrm{V_y~inferred~[kms^{-1}]}$\")\n",
    "    ax1.set_xticklabels([])\n",
    "\n",
    "    ax2 = plt.subplot(gs[0, 2])\n",
    "    zlims = (np.median(vz) - box_size, np.median(vz_inferred) + box_size)\n",
    "    ax2.plot(vz, vz_inferred, \"k.\", ms=ms, alpha=alpha, rasterized=True, zorder=0)\n",
    "    xs = np.linspace(zlims[0], zlims[1], 100)\n",
    "    plt.plot(xs, xs, \"k\", ls=\"--\", zorder=1)\n",
    "    ax2.set_xlim(zlims)\n",
    "    ax2.set_ylim(zlims)\n",
    "    ax2.set_ylabel(\"$\\mathrm{V_z~inferred~[kms^{-1}]}$\");\n",
    "    ax2.set_xticklabels([])\n",
    "\n",
    "    ax6 = plt.subplot(gs[0, 3])\n",
    "    ax6.plot(r_est, lndistance_inferred, \"k.\", ms=ms+2, mec=\"none\", alpha=alpha, rasterized=True, zorder=0)\n",
    "#     ax6.errorbar(r_est, lndistance_inferred, fmt=\"k.\", yerr=lndistance_inferred_err, ms=ms+2,\n",
    "#                  mec=\"none\", alpha=alpha, rasterized=True, zorder=0)\n",
    "    xs = np.linspace(0, 10, 100)\n",
    "    ax6.plot(xs, xs, \"k\", ls=\"--\", zorder=1)\n",
    "    ax6.set_xlim(0, 10)\n",
    "    ax6.set_ylim(0, 10)\n",
    "    ax6.set_ylabel(\"$\\mathrm{\\ln(D/Kpc)~inferred}$\")\n",
    "    ax6.set_xticklabels([])\n",
    "    \n",
    "    # Residual panels\n",
    "    # ---------------------------------------------------------------------------------------------------\n",
    "    \n",
    "    ax3 = plt.subplot(gs[1, 0])\n",
    "#     ax3.errorbar(vx, vx_inferred - vx, yerr=vx_inferred_err, fmt=\"k.\", ms=ms+2, mec=\"none\", alpha=alpha, rasterized=True, zorder=0)\n",
    "    ax3.plot(vx, vx_inferred - vx, \"k.\", ms=ms+2, mec=\"none\", alpha=alpha, rasterized=True, zorder=0)\n",
    "    ax3.errorbar(np.median(vx - 40), -30, yerr=np.median(vx_inferred_err), fmt=\"k.\", ms=4, label=\"$\\mathrm{Typical~uncertainty}$\")\n",
    "    ax3.axhline(0, color=\"k\", ls=\"--\", zorder=1)\n",
    "    ax3.set_ylim(-box_size, box_size)\n",
    "    ax3.set_xlim(xlims)\n",
    "    ax3.set_xlabel(\"$\\mathrm{V_x~true~[kms^{-1}]}$\")\n",
    "#     ax3.set_ylabel(\"$\\mathrm{Residual~[kms^{-1}]}$\")\n",
    "    ax3.set_ylabel(\"$\\mathrm{Inferred-True~[kms^{-1}]}$\")\n",
    "    ax3.legend(fontsize=13)\n",
    "\n",
    "    ax4 = plt.subplot(gs[1, 1])\n",
    "#     ax4.errorbar(vy, vy_inferred-vy, yerr=vy_inferred_err, fmt=\"k.\", ms=ms+2, mec=\"none\", alpha=alpha, rasterized=True, zorder=0)\n",
    "    ax4.plot(vy, vy_inferred-vy, \"k.\", ms=ms+2, mec=\"none\", alpha=alpha, rasterized=True, zorder=0)\n",
    "    ax4.errorbar(np.median(vy - 40), -30, yerr=np.median(vy_inferred_err), fmt=\"k.\", ms=4)\n",
    "    ax4.axhline(0, color=\"k\", ls=\"--\", zorder=1)\n",
    "    ax4.set_ylim(-box_size, box_size)\n",
    "    ax4.set_xlim(ylims)\n",
    "    ax4.set_xlabel(\"$\\mathrm{V_y~true~[kms^{-1}]}$\")\n",
    "#     ax4.set_ylabel(\"$\\mathrm{Residual~[kms^{-1}]}$\")\n",
    "    ax4.set_ylabel(\"$\\mathrm{Inferred-True~[kms^{-1}]}$\")\n",
    "\n",
    "    ax5 = plt.subplot(gs[1, 2])\n",
    "#     ax5.errorbar(vz, vz_inferred - vz, yerr=vz_inferred_err, fmt=\"k.\", ms=ms+2, mec=\"none\", alpha=alpha, rasterized=True, zorder=0)\n",
    "    ax5.plot(vz, vz_inferred - vz, \"k.\", ms=ms+2, mec=\"none\", alpha=alpha, rasterized=True, zorder=0)\n",
    "    ax5.errorbar(np.median(vz - 40), -30, yerr=np.median(vz_inferred_err), fmt=\"k.\", ms=4)\n",
    "    print(\"typical vz uncertainty = \", np.median(vz_inferred_err), np.median(vz_inferred_err/vz)*100)\n",
    "    ax5.axhline(0, color=\"k\", ls=\"--\", zorder=1)\n",
    "    ax5.set_ylim(-box_size, box_size)\n",
    "    ax5.set_xlim(zlims)\n",
    "    ax5.set_xlabel(\"$\\mathrm{V_z~true~[kms^{-1}]}$\")\n",
    "#     ax5.set_ylabel(\"$\\mathrm{Residual~[kms^{-1}]}$\")\n",
    "    ax5.set_ylabel(\"$\\mathrm{Inferred-True~[kms^{-1}]}$\")\n",
    "\n",
    "    ax7 = plt.subplot(gs[1, 3])\n",
    "#     ax7.errorbar(r_est, lndistance_inferred-r_est, fmt=\"k.\", yerr=lndistance_inferred_err, ms=ms+2,\n",
    "#                  mec=\"none\", alpha=alpha, rasterized=True, zorder=0)\n",
    "    ax7.plot(r_est, lndistance_inferred-r_est, \"k.\", ms=ms+2, mec=\"none\", alpha=alpha, rasterized=True, zorder=0)\n",
    "    ax7.errorbar(0, -.1, yerr=np.median(lndistance_inferred_err), fmt=\"k.\", ms=4)\n",
    "    ax7.axhline(0, color=\"k\", ls=\"--\", zorder=1)\n",
    "    ax7.set_ylim(-.5, .5)\n",
    "    ax7.set_xlabel(\"$\\mathrm{Distance~true~[kpc]}$\")\n",
    "    ax7.set_ylabel(\"$\\mathrm{Inferred-True~[kpc]}$\")\n",
    "        \n",
    "    return fig"
   ]
  },
  {
   "cell_type": "code",
   "execution_count": null,
   "metadata": {},
   "outputs": [
    {
     "name": "stdout",
     "output_type": "stream",
     "text": [
      "typical vz uncertainty =  4.1484940403706405 -5.269425102815327\n"
     ]
    },
    {
     "name": "stderr",
     "output_type": "stream",
     "text": [
      "/Users/rangus/Applications/anaconda3/lib/python3.7/site-packages/ipykernel_launcher.py:15: UserWarning: This figure includes Axes that are not compatible with tight_layout, so results might be incorrect.\n",
      "  from ipykernel import kernelapp as app\n"
     ]
    }
   ],
   "source": [
    "m = np.isfinite(adf.vx.values) & np.isfinite(adf.vy.values) & np.isfinite(adf.vz.values)\n",
    "m &= np.isfinite(adf.vx_random.values) & np.isfinite(adf.vy_random.values) & np.isfinite(adf.vz_random.values) \\\n",
    "    & np.isfinite(adf.lndistance_random.values)\n",
    "\n",
    "fig = resid_plot(adf.vx.values[m], adf.vy.values[m], adf.vz.values[m], adf.vx_random.values[m],\n",
    "                 adf.vy_random.values[m], adf.vz_random.values[m],\n",
    "                 adf.vx_inferred_err.values[m], adf.vy_inferred_err.values[m], adf.vz_inferred_err.values[m],\n",
    "                 adf.lndistance_inferred_err.values[m],\n",
    "                 adf.r_med_photogeo.values[m]*1e-3, np.exp(adf.lndistance_random.values[m]))\n",
    "#                  1./adf.parallax_uncorr.values[m], np.exp(adf.lndistance_random.values[m]))\n",
    "#                  adf.r_med_photogeo.values[m]*1e-3, 1./adf.parallax.values[m])\n",
    "#                  adf.r_est.values[m]*1e-3, np.exp(adf.lndistance_random.values[m]))\n",
    "\n",
    "\n",
    "plt.tight_layout()\n",
    "plt.savefig(\"../plots/residuals\")\n",
    "plt.savefig(\"../paper/residuals.pdf\")"
   ]
  },
  {
   "cell_type": "code",
   "execution_count": 88,
   "metadata": {},
   "outputs": [
    {
     "data": {
      "text/plain": [
       "(0.0, 6.0)"
      ]
     },
     "execution_count": 88,
     "metadata": {},
     "output_type": "execute_result"
    },
    {
     "data": {
      "image/png": "[encoded data removed]",
      "text/plain": [
       "<Figure size 432x432 with 1 Axes>"
      ]
     },
     "metadata": {
      "needs_background": "light"
     },
     "output_type": "display_data"
    }
   ],
   "source": [
    "plt.figure(figsize=(6, 6))\n",
    "# plt.plot(1./adf.parallax_uncorr.values[m], np.exp(adf.lndistance_random.values[m]), \"k.\", ms=1)\n",
    "# plt.plot(adf.r_med_photogeo.values[m]*1e-3, 1./adf.parallax.values[m], \"k.\", ms=1)\n",
    "plt.errorbar(adf.r_med_photogeo.values[m]*1e-3, np.exp(adf.lndistance_random.values[m]),\n",
    "             xerr=np.mean([adf.r_lo_photogeo.values[m]*1e-3, adf.r_hi_photogeo.values[m]*1e-3]),\n",
    "#              xerr=[adf.r_lo_photogeo.values[m]*1e-3, adf.r_hi_photogeo.values[m]*1e-3],\n",
    "             fmt=\"k.\", ms=1)\n",
    "#              yerr=adf.lndistance_inferred_err.values[m], fmt=\"k.\", ms=1)\n",
    "\n",
    "xs = np.linspace(0, 10, 100)\n",
    "plt.plot(xs, xs)\n",
    "plt.xlim(0, 6)\n",
    "plt.ylim(0, 6)"
   ]
  },
  {
   "cell_type": "code",
   "execution_count": 85,
   "metadata": {},
   "outputs": [
    {
     "name": "stdout",
     "output_type": "stream",
     "text": [
      "0        415.944550\n",
      "1       1667.609497\n",
      "2       3975.973145\n",
      "3        352.666443\n",
      "4        673.099243\n",
      "           ...     \n",
      "4995     852.831848\n",
      "4996    1481.183472\n",
      "4997    2053.325439\n",
      "4998     676.265808\n",
      "4999    2963.287109\n",
      "Name: r_lo_photogeo, Length: 5000, dtype: float64\n"
     ]
    }
   ],
   "source": [
    "[col for col in adf.columns if \"photogeo\" in col]\n",
    "print(adf.r_lo_photogeo)"
   ]
  },
  {
   "cell_type": "code",
   "execution_count": 10,
   "metadata": {},
   "outputs": [
    {
     "name": "stdout",
     "output_type": "stream",
     "text": [
      "Median vx uncertainty = 4.49 km/s, 13.85 %\n",
      "Median vy uncertainty = 17.83 km/s, 7.94 %\n",
      "Median vz uncertainty = 4.17 km/s, -6736.38 %\n",
      "Median lnD uncertainty = 1.01 pc, 1.29 %\n",
      "vx RMS = 16.02 km/s, MAD = nan\n",
      "vy RMS = 30.78 km/s, MAD = nan\n",
      "vz RMS = 13.85 km/s, MAD = nan\n"
     ]
    }
   ],
   "source": [
    "print(f\"Median vx uncertainty = {np.median(adf.vx_inferred_err):.2f} km/s, {np.median(adf.vx_inferred_err)/np.median(adf.vx_inferred)*100:.2f} %\")\n",
    "print(f\"Median vy uncertainty = {np.median(adf.vy_inferred_err):.2f} km/s, {np.median(adf.vy_inferred_err)/np.median(adf.vy_inferred)*100:.2f} %\")\n",
    "print(f\"Median vz uncertainty = {np.median(adf.vz_inferred_err):.2f} km/s, {np.median(adf.vz_inferred_err)/np.median(adf.vz_inferred)*100:.2f} %\")\n",
    "print(f\"Median lnD uncertainty = {np.median(np.exp(adf.lndistance_inferred_err)):.2f} pc, {np.median(adf.lndistance_inferred_err)*100:.2f} %\")\n",
    "\n",
    "def RMS(y):\n",
    "    return np.sqrt(np.mean(y**2))\n",
    "\n",
    "def MAD(y1, y2):\n",
    "    return np.median(abs(y1-y2))\n",
    "\n",
    "\n",
    "print(f\"vx RMS = {RMS(adf.vx_inferred-adf.vx):.2f} km/s, MAD = {MAD(adf.vx_inferred, adf.vx):.2f}\")\n",
    "print(f\"vy RMS = {RMS(adf.vy_inferred-adf.vy):.2f} km/s, MAD = {MAD(adf.vy_inferred, adf.vy):.2f}\")\n",
    "print(f\"vz RMS = {RMS(adf.vz_inferred-adf.vz):.2f} km/s, MAD = {MAD(adf.vz_inferred, adf.vz):.2f}\")"
   ]
  },
  {
   "cell_type": "markdown",
   "metadata": {},
   "source": [
    "How many stars lie within 1 sigma?"
   ]
  },
  {
   "cell_type": "code",
   "execution_count": 11,
   "metadata": {},
   "outputs": [
    {
     "name": "stdout",
     "output_type": "stream",
     "text": [
      "0.697\n",
      "0.7356\n",
      "0.7362\n",
      "1.0\n"
     ]
    },
    {
     "data": {
      "text/plain": [
       "[<matplotlib.lines.Line2D at 0x7fd6790b1390>]"
      ]
     },
     "execution_count": 11,
     "metadata": {},
     "output_type": "execute_result"
    },
    {
     "data": {
      "image/png": "[encoded data removed]",
      "text/plain": [
       "<Figure size 432x288 with 1 Axes>"
      ]
     },
     "metadata": {
      "needs_background": "light"
     },
     "output_type": "display_data"
    }
   ],
   "source": [
    "def gauss(x, mu, sig):\n",
    "    return 1./(sig * np.sqrt(2 * np.pi)) * np.exp(-.5 * (x - mu)**2 / sig**2)\n",
    "\n",
    "# plt.hist(nsigma[abs(nsigma) < 10], 50, density=True);\n",
    "# xs = np.linspace(-10, 10, 100)\n",
    "# plt.plot(xs, gauss(xs, 0, 1))\n",
    "\n",
    "nsigma = (adf.vx_inferred.values - adf.vx.values)/adf.vx_inferred_err.values\n",
    "print(sum(nsigma <= 1)/float(len(nsigma)))\n",
    "\n",
    "nsigma = (adf.vy_inferred.values - adf.vy.values)/adf.vy_inferred_err.values\n",
    "print(sum(nsigma <= 1)/float(len(nsigma)))\n",
    "\n",
    "nsigma = (adf.vz_inferred.values - adf.vz.values)/adf.vz_inferred_err.values\n",
    "print(sum(nsigma <= 1)/float(len(nsigma)))\n",
    "\n",
    "nsigma = (adf.lndistance_inferred.values - np.log(1./adf.parallax.values))/adf.lndistance_inferred_err.values\n",
    "print(sum(nsigma <= 1)/float(len(nsigma)))\n",
    "\n",
    "plt.clf()\n",
    "plt.hist(nsigma[abs(nsigma) < 10], 50, density=True);\n",
    "xs = np.linspace(-10, 10, 100)\n",
    "plt.plot(xs, gauss(xs, 0, 1))"
   ]
  },
  {
   "cell_type": "code",
   "execution_count": 72,
   "metadata": {},
   "outputs": [
    {
     "data": {
      "image/png": "[encoded data removed]",
      "text/plain": [
       "<Figure size 432x288 with 1 Axes>"
      ]
     },
     "metadata": {
      "needs_background": "light"
     },
     "output_type": "display_data"
    }
   ],
   "source": [
    "# plt.hist(adf.lndistance_inferred.values, density=True, alpha=.5);\n",
    "# plt.hist(np.log(1/adf.parallax.values), density=True, alpha=.5);\n",
    "plt.hist(np.log(1/adf.parallax.values) - adf.lndistance_inferred.values, 100, density=True, alpha=.5);"
   ]
  },
  {
   "cell_type": "code",
   "execution_count": 42,
   "metadata": {},
   "outputs": [
    {
     "name": "stderr",
     "output_type": "stream",
     "text": [
      "100%|██████████| 4987/4987 [00:01<00:00, 3577.65it/s]\n"
     ]
    }
   ],
   "source": [
    "p = np.zeros(len(adf))\n",
    "from tqdm import trange\n",
    "for i in trange(len(adf)):\n",
    "    cov = [[adf.vx_inferred_err.values[i]**2, 0, 0, 0],\n",
    "           [0, adf.vy_inferred_err.values[i]**2, 0, 0],\n",
    "           [0, 0, adf.vz_inferred_err.values[i]**2, 0],\n",
    "           [0, 0, 0, adf.lndistance_inferred_err.values[i]**2]]\n",
    "    mvn = multivariate_normal([adf.vx_inferred.values[i], adf.vy_inferred.values[i],\n",
    "                               adf.vz_inferred.values[i], adf.lndistance_inferred.values[i]], cov)\n",
    "    p[i] = mvn.pdf([adf.vx.values[i], adf.vy.values[i], adf.vz.values[i], np.log(adf.r_est.values[i]*1e-3)])"
   ]
  },
  {
   "cell_type": "code",
   "execution_count": 43,
   "metadata": {},
   "outputs": [
    {
     "data": {
      "image/png": "[encoded data removed]",
      "text/plain": [
       "<Figure size 432x288 with 1 Axes>"
      ]
     },
     "metadata": {
      "needs_background": "light"
     },
     "output_type": "display_data"
    }
   ],
   "source": [
    "plt.hist(p, 100);"
   ]
  },
  {
   "cell_type": "code",
   "execution_count": 41,
   "metadata": {},
   "outputs": [
    {
     "data": {
      "text/plain": [
       "array([0., 0., 0., ..., 0., 0., 0.])"
      ]
     },
     "execution_count": 41,
     "metadata": {},
     "output_type": "execute_result"
    }
   ],
   "source": [
    "p"
   ]
  },
  {
   "cell_type": "code",
   "execution_count": 33,
   "metadata": {},
   "outputs": [],
   "source": [
    "def gauss(x, mu, sig):\n",
    "    return 1./(sig * np.sqrt(2 * np.pi)) * np.exp(-.5 * (x - mu)**2 / sig**2)"
   ]
  },
  {
   "cell_type": "code",
   "execution_count": 44,
   "metadata": {},
   "outputs": [
    {
     "name": "stdout",
     "output_type": "stream",
     "text": [
      "0.24197072451914337\n"
     ]
    },
    {
     "data": {
      "image/png": "[encoded data removed]",
      "text/plain": [
       "<Figure size 432x288 with 1 Axes>"
      ]
     },
     "metadata": {
      "needs_background": "light"
     },
     "output_type": "display_data"
    }
   ],
   "source": [
    "xs = np.linspace(-3, 3, 100)\n",
    "plt.plot(xs, gauss(xs, 0, 1))\n",
    "plt.axvline(1)\n",
    "plt.axvline(-1)\n",
    "plt.axhline(gauss(1., 0., 1.))\n",
    "print(gauss(1., 0., 1.))"
   ]
  },
  {
   "cell_type": "code",
   "execution_count": null,
   "metadata": {},
   "outputs": [],
   "source": []
  }
 ],
 "metadata": {
  "kernelspec": {
   "display_name": "Python 3",
   "language": "python",
   "name": "python3"
  },
  "language_info": {
   "codemirror_mode": {
    "name": "ipython",
    "version": 3
   },
   "file_extension": ".py",
   "mimetype": "text/x-python",
   "name": "python",
   "nbconvert_exporter": "python",
   "pygments_lexer": "ipython3",
   "version": "3.7.6"
  }
 },
 "nbformat": 4,
 "nbformat_minor": 4
}
