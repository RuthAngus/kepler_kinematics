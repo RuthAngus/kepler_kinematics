{
 "cells": [
  {
   "cell_type": "markdown",
   "metadata": {},
   "source": [
    "# Creating the main data file for this project."
   ]
  },
  {
   "cell_type": "code",
   "execution_count": null,
   "metadata": {},
   "outputs": [],
   "source": [
    "import numpy as np\n",
    "import pandas as pd\n",
    "import matplotlib.pyplot as plt\n",
    "%matplotlib inline\n",
    "\n",
    "from astropy.io import fits\n",
    "from astropy.coordinates import SkyCoord\n",
    "import astropy.units as u\n",
    "import astropy.coordinates as coord\n",
    "from astropy.table import Table\n",
    "\n",
    "import kepler_kinematics as kek\n",
    "from tools import getDust\n",
    "from photometric_teff import bprp_to_teff\n",
    "from dustmaps.bayestar import BayestarQuery\n",
    "\n",
    "# Set defaults so they don't change\n",
    "import astropy.coordinates as coord\n",
    "coord.galactocentric_frame_defaults.set('v4.0')\n",
    "\n",
    "plotpar = {'axes.labelsize': 30,\n",
    "                  'font.size': 22,\n",
    "                  'legend.fontsize': 15,\n",
    "                  'xtick.labelsize': 30,\n",
    "                  'ytick.labelsize': 30,\n",
    "                  'text.usetex': True}\n",
    "plt.rcParams.update(plotpar)"
   ]
  },
  {
   "cell_type": "markdown",
   "metadata": {},
   "source": [
    "# Load Gaia data"
   ]
  },
  {
   "cell_type": "code",
   "execution_count": null,
   "metadata": {},
   "outputs": [],
   "source": [
    "with fits.open(\"../../data/kepler_edr3_1arcsec.fits\") as data:\n",
    "    gaia_nodist = pd.DataFrame(data[1].data, dtype=\"float64\")"
   ]
  },
  {
   "cell_type": "markdown",
   "metadata": {},
   "source": [
    "Plot the angular separations between gaia-kepler crossmatch and dr2-edr3 crossmatch."
   ]
  },
  {
   "cell_type": "code",
   "execution_count": null,
   "metadata": {},
   "outputs": [],
   "source": [
    "plt.hist(gaia_nodist.angdist*1e3, 100, range=(0, 1), density=True, alpha=.5);\n",
    "plt.hist(gaia_nodist.kepler_gaia_ang_dist, 100, range=(0, 1), density=True, alpha=.5);\n",
    "plt.axvline(.15, color=\"k\")\n",
    "plt.xlabel(\"Angular distance [mas]\");"
   ]
  },
  {
   "cell_type": "markdown",
   "metadata": {},
   "source": [
    "Loading (hopefully) Bailer-Jones distances. "
   ]
  },
  {
   "cell_type": "code",
   "execution_count": null,
   "metadata": {},
   "outputs": [],
   "source": [
    "with fits.open(\"../data/distances-result.fits\") as data:\n",
    "    dist = pd.DataFrame(data[1].data, dtype=\"float64\")"
   ]
  },
  {
   "cell_type": "code",
   "execution_count": null,
   "metadata": {},
   "outputs": [],
   "source": [
    "np.array([k for k in dist.keys()])"
   ]
  },
  {
   "cell_type": "markdown",
   "metadata": {},
   "source": [
    "Remove stars with negative parallaxes, apply S/N cuts, and remove stars with large angular separations."
   ]
  },
  {
   "cell_type": "code",
   "execution_count": null,
   "metadata": {},
   "outputs": [],
   "source": [
    "gaia0 = pd.merge(gaia_nodist, dist, how=\"left\", on=\"source_id\", suffixes=[\"\", \"_bailer-jones\"])\n",
    "print(len(gaia0), \"original stars\")\n",
    "\n",
    "# Remove stars with negative parallaxes and apply some S/N cuts.\n",
    "m = (gaia0.parallax.values > 0) & np.isfinite(gaia0.parallax.values)\n",
    "\n",
    "sn = gaia0.parallax.values/gaia0.parallax_error.values\n",
    "m = (sn > 10)\n",
    "\n",
    "m &= gaia0.astrometric_excess_noise.values < 5\n",
    "\n",
    "# Joel's recommendations\n",
    "m &= gaia0.ruwe.values < 1.4\n",
    "m &= gaia0.ipd_frac_multi_peak.values <= 2 \n",
    "m &= gaia0.ipd_gof_harmonic_amplitude.values < 0.1\n",
    "\n",
    "gaia0 = gaia0.iloc[m]\n",
    "print(len(gaia0), \"stars after S/N and binary cuts\")\n",
    "\n",
    "# Remove stars with large angular separations between crossmatches.\n",
    "m = gaia0.angdist.values*1e3 < .15\n",
    "m &= gaia0.kepler_gaia_ang_dist.values < .15\n",
    "\n",
    "# Remove stars brighter than 6th mag (3 sources) and applying other cuts for zero point correction\n",
    "m &= gaia0.phot_g_mean_mag.values > 6\n",
    "m &= gaia0.nu_eff_used_in_astrometry.values < 1.9\n",
    "# m &= gaia0.pseudocolour.values > 1.24\n",
    "# m &= gaia0.pseudocolour.values < 1.72\n",
    "\n",
    "gaia0 = gaia0.iloc[m]\n",
    "print(len(gaia0), \"stars after angular distance cuts\")"
   ]
  },
  {
   "cell_type": "markdown",
   "metadata": {},
   "source": [
    "Drop targets with multiple matches."
   ]
  },
  {
   "cell_type": "code",
   "execution_count": null,
   "metadata": {},
   "outputs": [],
   "source": [
    "def drop_multi_matches(df, ang_sep_column, duplicated_column):\n",
    "    df_sorted = df.sort_values(by=ang_sep_column, ascending=True)\n",
    "    df_dropped = df_sorted.drop_duplicates(subset=duplicated_column, keep=\"first\")\n",
    "    return df_dropped"
   ]
  },
  {
   "cell_type": "code",
   "execution_count": null,
   "metadata": {},
   "outputs": [],
   "source": [
    "# If a target is duplicated, keep the one with the smallest angular separation.\n",
    "# Drop stars with the same Kepler ID\n",
    "gaia_dropped = drop_multi_matches(gaia0, \"kepler_gaia_ang_dist\", \"kepid\")\n",
    "print(len(gaia0)-len(gaia_dropped), \"Stars with the same Kepler ID dropped\")\n",
    "\n",
    "# Drop stars with the same Gaia ID\n",
    "gaia = drop_multi_matches(gaia_dropped, \"kepler_gaia_ang_dist\", \"source_id\")\n",
    "print(len(gaia_dropped)-len(gaia), \"Stars with the same Gaia ID dropped\")\n",
    "\n",
    "print(\"shape after cuts = \", np.shape(gaia))"
   ]
  },
  {
   "cell_type": "markdown",
   "metadata": {},
   "source": [
    "Apply parallax corrections."
   ]
  },
  {
   "cell_type": "code",
   "execution_count": null,
   "metadata": {},
   "outputs": [],
   "source": [
    "from zero_point import zpt\n",
    "zpt.load_tables()\n",
    "zero_point = zpt.get_zpt(gaia.phot_g_mean_mag, gaia.nu_eff_used_in_astrometry, gaia.pseudocolour, gaia.ecl_lat, gaia.astrometric_params_solved)\n",
    "gaia[\"parallax_uncorr\"] = gaia.parallax.values\n",
    "gaia[\"parallax\"] = gaia.parallax.values + zero_point"
   ]
  },
  {
   "cell_type": "code",
   "execution_count": null,
   "metadata": {},
   "outputs": [],
   "source": [
    "# plt.hist(gaia.pseudocolour, 100);\n",
    "# print(sum(gaia.pseudocolour.values < 1.24))\n",
    "# plt.hist(zero_point, 100);"
   ]
  },
  {
   "cell_type": "markdown",
   "metadata": {},
   "source": [
    "Load the LAMOST-Gaia-Kepler crossmatch perfomed in Lamost_xmatching.ipynb and remove stars with separations larger than .15 arcseconds."
   ]
  },
  {
   "cell_type": "code",
   "execution_count": null,
   "metadata": {},
   "outputs": [],
   "source": [
    "lamost0 = pd.read_csv(\"../data/lamost_gaia_kepler_crossmatch.csv\")\n",
    "lam_cut = lamost0.gaia_lamost_angular_separation_arcsec.values < .15\n",
    "lamost = lamost0.iloc[lam_cut]\n",
    "\n",
    "print(f\"{len(lamost0)-len(lamost)} of {len(lamost0)} stars with large angular separations removed\")"
   ]
  },
  {
   "cell_type": "code",
   "execution_count": null,
   "metadata": {},
   "outputs": [],
   "source": [
    "# np.array([k for k in lamost.keys()])"
   ]
  },
  {
   "cell_type": "markdown",
   "metadata": {},
   "source": [
    "Plot Gaia vs. LAMOST temperatures (cuts applied in Lamost_xmatching.ipynb) and angular separation cuts."
   ]
  },
  {
   "cell_type": "code",
   "execution_count": null,
   "metadata": {},
   "outputs": [],
   "source": [
    "plt.figure(figsize=(10, 5))\n",
    "plt.subplot(1, 2, 1)\n",
    "plt.plot(lamost.teff.values, lamost.teff_lamost.values, \".\", ms=2, alpha=.5, mec=\"none\", rasterized=True)\n",
    "plt.xlabel(\"Gaia Teff [K]\")\n",
    "plt.ylabel(\"LAMOST Teff [K]\")\n",
    "\n",
    "plt.subplot(1, 2, 2)\n",
    "plt.hist(lamost0.gaia_lamost_angular_separation_arcsec, 100, range=(0, 1));\n",
    "plt.hist(lamost.gaia_lamost_angular_separation_arcsec, 100, range=(0, 1));\n",
    "plt.axvline(.15, color=\"k\")\n",
    "plt.xlabel(\"LAMOST-Gaia angular separation\")\n",
    "\n",
    "plt.tight_layout()"
   ]
  },
  {
   "cell_type": "markdown",
   "metadata": {},
   "source": [
    "Just keep the lamost columns you need."
   ]
  },
  {
   "cell_type": "code",
   "execution_count": null,
   "metadata": {},
   "outputs": [],
   "source": [
    "lam = pd.DataFrame(dict({\"source_id\": lamost.source_id.values,\n",
    "                          \"LAMOST_RV\": lamost.rv.values,\n",
    "                          \"LAMOST_RV_ERR\": lamost.rv_err.values,\n",
    "                          \"LAMOST_DESIGNATION\": lamost.designation_lamost.values,\n",
    "                          \"LAMOST_TEFF\": lamost.teff_lamost.values,\n",
    "                          \"LAMOST_TEFF_ERR\": lamost.teff_err.values,\n",
    "                          \"gaia_lamost_angular_separation_arcsec\": lamost.gaia_lamost_angular_separation_arcsec.values}))"
   ]
  },
  {
   "cell_type": "markdown",
   "metadata": {},
   "source": [
    "Drop sources with multiple matches."
   ]
  },
  {
   "cell_type": "code",
   "execution_count": null,
   "metadata": {},
   "outputs": [],
   "source": [
    "lamost_dropped = drop_multi_matches(lam, \"gaia_lamost_angular_separation_arcsec\", \"source_id\")\n",
    "print(len(lam)-len(lamost_dropped), \"Stars with the same Gaia source ID dropped\")\n",
    "lamost_dropped2 = drop_multi_matches(lamost_dropped, \"gaia_lamost_angular_separation_arcsec\", \"LAMOST_DESIGNATION\")\n",
    "print(len(lamost_dropped)-len(lamost_dropped2), \"Stars with the same LAMOST ID dropped\")"
   ]
  },
  {
   "cell_type": "markdown",
   "metadata": {},
   "source": [
    "# Load APOGEE data"
   ]
  },
  {
   "cell_type": "code",
   "execution_count": null,
   "metadata": {},
   "outputs": [],
   "source": [
    "# Load Joel's APOGEE-Gaia EDR3 Xmatch\n",
    "tbl = Table.read(\"../data/apogee_dr16_tmass_psc_edr3_xmatch.fits\", format='fits')  # This is Joel's new version\n",
    "names = [name for name in tbl.colnames if len(tbl[name].shape) <= 1]\n",
    "_apo3 = tbl[names].to_pandas()"
   ]
  },
  {
   "cell_type": "code",
   "execution_count": null,
   "metadata": {},
   "outputs": [],
   "source": [
    "# np.array([k for k in _apo3.keys()])"
   ]
  },
  {
   "cell_type": "markdown",
   "metadata": {},
   "source": [
    "Just keep columns you need."
   ]
  },
  {
   "cell_type": "code",
   "execution_count": null,
   "metadata": {},
   "outputs": [],
   "source": [
    "apo3 = pd.DataFrame(dict({\"dr2_source_id\": _apo3.dr2_source_id.values,\n",
    "                          \"dr3_source_id\": _apo3.dr3_source_id.values,\n",
    "                          \"tmass_edr3_angular_distance\": _apo3.tmass_edr3_angular_distance.values}))"
   ]
  },
  {
   "cell_type": "code",
   "execution_count": null,
   "metadata": {},
   "outputs": [],
   "source": [
    "# Load Adrian's APOGEE-Gaia DR2 crossmatch\n",
    "tbl = Table.read(\"../data/apogeedr16_stars.fits\", format='fits')\n",
    "names = [name for name in tbl.colnames if len(tbl[name].shape) <= 1]\n",
    "_apo2 = tbl[names].to_pandas()"
   ]
  },
  {
   "cell_type": "code",
   "execution_count": null,
   "metadata": {},
   "outputs": [],
   "source": [
    "# np.array([k for k in _apo2.keys()]) # See https://www.sdss.org/dr12/irspec/radialvelocities/\n",
    "[col for col in _apo2.columns if \"VSCATTER\" in col]"
   ]
  },
  {
   "cell_type": "markdown",
   "metadata": {},
   "source": [
    "Again, just the columns you need."
   ]
  },
  {
   "cell_type": "code",
   "execution_count": null,
   "metadata": {},
   "outputs": [],
   "source": [
    "apo2 = pd.DataFrame(dict({\"dr2_source_id\": _apo2.GAIA_SOURCE_ID.values,\n",
    "                          \"APOGEE_RV\": _apo2.VHELIO_AVG.values,\n",
    "                          \"APOGEE_RV_err\": _apo2.VERR.values,\n",
    "                          \"APOGEE_TEFF\": _apo2.TEFF.values,\n",
    "                          \"APOGEE_TEFF_ERR\": _apo2.TEFF_ERR.values,\n",
    "                          \"VSCATTER\": _apo2.VSCATTER.values,\n",
    "                          \"APOGEE_ID\": _apo2.APOGEE_ID.values}))"
   ]
  },
  {
   "cell_type": "code",
   "execution_count": null,
   "metadata": {},
   "outputs": [],
   "source": [
    "# Merge on Gaia DR2 source ID. \n",
    "apo1 = pd.merge(apo2, apo3, how=\"left\", on=\"dr2_source_id\")\n",
    "\n",
    "# Merge with the Gaia-Kepler crossmatch\n",
    "apo0 = pd.merge(gaia, apo1, left_on=\"source_id\", right_on=\"dr2_source_id\")"
   ]
  },
  {
   "cell_type": "code",
   "execution_count": null,
   "metadata": {},
   "outputs": [],
   "source": [
    "# np.array([k for k in apo0.keys()])"
   ]
  },
  {
   "cell_type": "markdown",
   "metadata": {},
   "source": [
    "Remove stars with very different effective temperatures and stars with large angular separations."
   ]
  },
  {
   "cell_type": "code",
   "execution_count": null,
   "metadata": {},
   "outputs": [],
   "source": [
    "apo_residuals = apo0.APOGEE_TEFF.values - apo0.teff.values\n",
    "median = np.median(apo_residuals)\n",
    "m_apo = (apo_residuals < median + 500) & (median - 500 < apo_residuals)\n",
    "apo_cut = apo0.tmass_edr3_angular_distance.values < .15\n",
    "apo = apo0.iloc[apo_cut & m_apo]"
   ]
  },
  {
   "cell_type": "code",
   "execution_count": null,
   "metadata": {},
   "outputs": [],
   "source": [
    "plt.figure(figsize=(10, 5))\n",
    "plt.subplot(1, 2, 1)\n",
    "plt.plot(apo0.teff.values, apo0.APOGEE_TEFF.values, \".\", ms=2, alpha=.2, rasterized=True)\n",
    "plt.plot(apo.teff.values, apo.APOGEE_TEFF.values, \".\", ms=2, alpha=.2, rasterized=True)\n",
    "plt.xlim(2000, 10000)\n",
    "plt.ylim(2000, 10000)\n",
    "plt.xlabel(\"Gaia Teff [K]\")\n",
    "plt.ylabel(\"APOGEE Teff [K]\")\n",
    "\n",
    "plt.subplot(1, 2, 2)\n",
    "plt.hist(apo0.tmass_edr3_angular_distance, 100, range=(0, 1));\n",
    "plt.hist(apo0.tmass_edr3_angular_distance[apo_cut], 100, range=(0, 1));\n",
    "plt.axvline(.15, color=\"k\")\n",
    "plt.xlabel(\"APOGEE-Gaia angular separation [mas]\")\n",
    "\n",
    "plt.tight_layout()"
   ]
  },
  {
   "cell_type": "markdown",
   "metadata": {},
   "source": [
    "Drop stars with multiple matches."
   ]
  },
  {
   "cell_type": "code",
   "execution_count": null,
   "metadata": {},
   "outputs": [],
   "source": [
    "apo_dropped = drop_multi_matches(apo, \"tmass_edr3_angular_distance\", \"source_id\")\n",
    "print(len(apo)-len(apo_dropped), \"Stars with the same Gaia source ID dropped\")\n",
    "apo_dropped2 = drop_multi_matches(apo_dropped, \"tmass_edr3_angular_distance\", \"APOGEE_ID\")\n",
    "print(len(apo_dropped)-len(apo_dropped2), \"Stars with the same APOGEE ID dropped\")"
   ]
  },
  {
   "cell_type": "markdown",
   "metadata": {},
   "source": [
    "Just keep the parameters you're interested in."
   ]
  },
  {
   "cell_type": "code",
   "execution_count": null,
   "metadata": {},
   "outputs": [],
   "source": [
    "apo_stripped = pd.DataFrame(dict({\"dr2_source_id\": apo_dropped.dr2_source_id.values,\n",
    "                                  \"source_id\": apo_dropped.source_id.values,\n",
    "                                  \"APOGEE_RV\": apo_dropped.APOGEE_RV.values,\n",
    "                                  \"APOGEE_RV_ERR\": apo_dropped.APOGEE_RV_err.values,\n",
    "                                  \"APOGEE_TEFF\": apo_dropped.APOGEE_TEFF.values,\n",
    "                                  \"APOGEE_TEFF_ERR\": apo_dropped.APOGEE_TEFF_ERR.values,\n",
    "                                  \"VSCATTER\": apo_dropped.VSCATTER.values,\n",
    "                                  \"APOGEE_ID\": apo_dropped.APOGEE_ID.values}))"
   ]
  },
  {
   "cell_type": "markdown",
   "metadata": {},
   "source": [
    "Crossmatch back with the Gaia-Kepler crossmatch."
   ]
  },
  {
   "cell_type": "code",
   "execution_count": null,
   "metadata": {},
   "outputs": [],
   "source": [
    "gaia_kep_lamost = pd.merge(gaia, lamost_dropped, on=\"source_id\", how=\"left\")\n",
    "gaia_kep_lamost_apogee = pd.merge(gaia_kep_lamost, apo_stripped, on=\"source_id\", how=\"left\")"
   ]
  },
  {
   "cell_type": "code",
   "execution_count": null,
   "metadata": {},
   "outputs": [],
   "source": [
    "print(np.shape(gaia), np.shape(gaia_kep_lamost), np.shape(gaia_kep_lamost_apogee))"
   ]
  },
  {
   "cell_type": "code",
   "execution_count": null,
   "metadata": {},
   "outputs": [],
   "source": [
    "# Save file here.\n",
    "gaia_kep_lamost_apogee.to_csv(\"../data/gaia_kep_lamost_apogee.csv\")"
   ]
  },
  {
   "cell_type": "code",
   "execution_count": null,
   "metadata": {},
   "outputs": [],
   "source": [
    "df = gaia_kep_lamost_apogee*1"
   ]
  },
  {
   "cell_type": "code",
   "execution_count": null,
   "metadata": {},
   "outputs": [],
   "source": [
    "# np.array([k for k in df.keys()])"
   ]
  },
  {
   "cell_type": "markdown",
   "metadata": {},
   "source": [
    "# Now correct the LAMOST and APOGEE RVs to Gaia."
   ]
  },
  {
   "cell_type": "code",
   "execution_count": null,
   "metadata": {},
   "outputs": [],
   "source": [
    "rv, rv_err = [np.ones(len(df))*np.nan for i in range(2)]\n",
    "\n",
    "ml = np.isfinite(df.LAMOST_RV.values)\n",
    "mg = np.isfinite(df.dr2_radial_velocity.values) & (df.dr2_radial_velocity.values != 0)\n",
    "ma = np.isfinite(df.APOGEE_RV.values)\n",
    "mlmgma = ml & mg & ma\n",
    "mlmg = ml & mg\n",
    "mamg = ma & mg\n",
    "maml = ma & ml"
   ]
  },
  {
   "cell_type": "code",
   "execution_count": null,
   "metadata": {},
   "outputs": [],
   "source": [
    "print(f\"{len(df)} stars in total, {sum(ml)} with LAMOST RVs, {sum(ma)} with APOGEE RVs, {sum(mg)} with Gaia DR2 RVs, \"\\\n",
    "      f\"and {sum(mlmgma)} with all three\")"
   ]
  },
  {
   "cell_type": "markdown",
   "metadata": {},
   "source": [
    "Correct the LAMOST RVs to the Gaia ones:"
   ]
  },
  {
   "cell_type": "code",
   "execution_count": null,
   "metadata": {},
   "outputs": [],
   "source": [
    "def fit_line(x, y, yerr):\n",
    "    AT = np.vstack((np.ones(len(x)), x))\n",
    "    C = np.eye(len(x))*yerr\n",
    "    CA = np.linalg.solve(C, AT.T)\n",
    "    Cy = np.linalg.solve(C, y)\n",
    "    ATCA = np.dot(AT, CA)\n",
    "    ATCy = np.dot(AT, Cy)\n",
    "    w = np.linalg.solve(ATCA, ATCy)\n",
    "\n",
    "    cov = np.linalg.inv(ATCA)\n",
    "    sig = np.sqrt(np.diag(cov))\n",
    "    return w, sig"
   ]
  },
  {
   "cell_type": "code",
   "execution_count": null,
   "metadata": {},
   "outputs": [],
   "source": [
    "# Correct LAMOST RVs\n",
    "x, y = df.dr2_radial_velocity.values[mlmg], df.LAMOST_RV.values[mlmg]-df.dr2_radial_velocity.values[mlmg]\n",
    "yerr = df.LAMOST_RV_ERR.values[mlmg]\n",
    "w, sig = fit_line(x, y, yerr)"
   ]
  },
  {
   "cell_type": "code",
   "execution_count": null,
   "metadata": {},
   "outputs": [],
   "source": [
    "plt.figure(figsize=(15, 5))\n",
    "plt.subplot(1, 3, 1)\n",
    "\n",
    "plt.errorbar(x, y, fmt=\"C0.\", ms=1, alpha=.1, rasterized=True, zorder=1)\n",
    "\n",
    "xs = np.linspace(min(x), max(x), 100)\n",
    "plt.plot(xs, w[0] + w[1]*xs, zorder=2, color=\"C0\")\n",
    "plt.axhline(0, color=\"C1\", ls=\"--\", zorder=3)\n",
    "plt.xlim(-200, 50)\n",
    "plt.ylim(-50, 50)\n",
    "\n",
    "plt.errorbar(x, y-(w[0]+w[1]*y), fmt=\"k.\", ms=2, alpha=.1, rasterized=True, zorder=0)\n",
    "\n",
    "plt.xlabel(\"Gaia RV [km/s]\")\n",
    "plt.ylabel(\"LAMOST-Gaia RV [km/s]\")\n",
    "\n",
    "lamost_corrected = df.LAMOST_RV.values - (w[0] + w[1]*df.LAMOST_RV.values)\n",
    "df[\"lamost_corrected_rv\"] = lamost_corrected\n",
    "\n",
    "plt.subplot(1, 3, 2)\n",
    "plt.hist(y, 100, density=True, alpha=.5, range=(-50,50));\n",
    "plt.hist(y-(w[0]+w[1]*y), 100, density=True, alpha=.5, range=(-50,50), color=\"k\");\n",
    "plt.axvline(0, color=\"C1\", ls=\"--\")\n",
    "plt.xlabel(\"RV residuals [km/s]\")\n",
    "\n",
    "plt.subplot(1, 3, 3)\n",
    "plt.plot(df.dr2_radial_velocity.values[mlmg], df.LAMOST_RV.values[mlmg], \".\", ms=1, alpha=.2, rasterized=True)\n",
    "plt.plot(df.dr2_radial_velocity.values[mlmg], df.lamost_corrected_rv.values[mlmg], \"k.\", ms=1, alpha=.2, rasterized=True)\n",
    "plt.plot(xs, xs)\n",
    "plt.xlim(-100, 50)\n",
    "plt.ylim(-100, 50)\n",
    "plt.xlabel(\"Gaia RV [km/s]\")\n",
    "plt.xlabel(\"LAMOST RV [km/s]\")\n",
    "\n",
    "plt.tight_layout()"
   ]
  },
  {
   "cell_type": "code",
   "execution_count": null,
   "metadata": {},
   "outputs": [],
   "source": [
    "# Correct APOGEE RVs\n",
    "x, y = df.dr2_radial_velocity.values[mamg], df.APOGEE_RV.values[mamg]-df.dr2_radial_velocity.values[mamg]\n",
    "yerr = df.APOGEE_RV_ERR.values[mamg]\n",
    "w, sig = fit_line(x, y, yerr)"
   ]
  },
  {
   "cell_type": "code",
   "execution_count": null,
   "metadata": {},
   "outputs": [],
   "source": [
    "plt.figure(figsize=(15, 5))\n",
    "plt.subplot(1, 3, 1)\n",
    "\n",
    "plt.errorbar(x, y, fmt=\"C0.\", ms=1, alpha=.1, rasterized=True, zorder=1)\n",
    "\n",
    "xs = np.linspace(min(x), max(x), 100)\n",
    "plt.plot(xs, w[0] + w[1]*xs, zorder=2, color=\"C0\")\n",
    "plt.axhline(0, color=\"C1\", ls=\"--\", zorder=3)\n",
    "plt.xlim(-200, 50)\n",
    "plt.ylim(-10, 10)\n",
    "\n",
    "plt.errorbar(x, y-(w[0]+w[1]*y), fmt=\"k.\", ms=2, alpha=.1, rasterized=True, zorder=0)\n",
    "\n",
    "plt.xlabel(\"Gaia RV [km/s]\")\n",
    "plt.ylabel(\"APOGEE-Gaia RV [km/s]\")\n",
    "\n",
    "apogee_corrected = df.APOGEE_RV.values - (w[0] + w[1]*df.APOGEE_RV.values)\n",
    "df[\"apogee_corrected_rv\"] = apogee_corrected\n",
    "\n",
    "plt.subplot(1, 3, 2)\n",
    "plt.hist(y, 100, density=True, alpha=.5, range=(-10,10));\n",
    "plt.hist(y-(w[0]+w[1]*y), 100, density=True, alpha=.5, range=(-10,10), color=\"k\");\n",
    "plt.axvline(0, color=\"C1\", ls=\"--\")\n",
    "plt.xlabel(\"RV residuals [km/s]\")\n",
    "\n",
    "plt.subplot(1, 3, 3)\n",
    "plt.plot(df.dr2_radial_velocity.values[mlmg], df.APOGEE_RV.values[mlmg], \".\", ms=1, alpha=.2, rasterized=True)\n",
    "plt.plot(df.dr2_radial_velocity.values[mlmg], df.apogee_corrected_rv.values[mlmg], \"k.\", ms=1, alpha=.2, rasterized=True)\n",
    "plt.plot(xs, xs)\n",
    "plt.xlim(-100, 50)\n",
    "plt.ylim(-100, 50)\n",
    "plt.xlabel(\"Gaia RV [km/s]\")\n",
    "plt.xlabel(\"APOGEE RV [km/s]\")\n",
    "\n",
    "plt.tight_layout()"
   ]
  },
  {
   "cell_type": "markdown",
   "metadata": {},
   "source": [
    "# Now combine the RVs into a single column."
   ]
  },
  {
   "cell_type": "code",
   "execution_count": null,
   "metadata": {},
   "outputs": [],
   "source": [
    "rv[ml] = lamost_corrected[ml]\n",
    "rv_err[ml] = df.LAMOST_RV_ERR.values[ml]\n",
    "print(sum(ml), \"stars with LAMOST RVs\")\n",
    "\n",
    "# Overwrite LAMOST RVs with Gaia RVs\n",
    "rv[mg] = df.dr2_radial_velocity.values[mg]\n",
    "rv_err[mg] = df.dr2_radial_velocity_error.values[mg]\n",
    "print(sum(mg), \"stars with Gaia RVs\")\n",
    "\n",
    "# Overwrite Gaia RVs with APOGEE RVs\n",
    "rv[ma] = apogee_corrected[ma]\n",
    "rv_err[ma] = df.APOGEE_RV.values[ma]\n",
    "print(sum(ma), \"stars with APOGEE RVs\")"
   ]
  },
  {
   "cell_type": "code",
   "execution_count": null,
   "metadata": {},
   "outputs": [],
   "source": [
    "df[\"rv\"] = rv\n",
    "df[\"rv_err\"] = rv_err"
   ]
  },
  {
   "cell_type": "code",
   "execution_count": null,
   "metadata": {},
   "outputs": [],
   "source": [
    "print(sum(np.isfinite(df.rv.values)), \"stars with at least 1 RV measurement\")"
   ]
  },
  {
   "cell_type": "code",
   "execution_count": null,
   "metadata": {},
   "outputs": [],
   "source": [
    "df.to_csv(\"../data/rv_data.csv\")"
   ]
  },
  {
   "cell_type": "markdown",
   "metadata": {},
   "source": [
    "# Now calculate velocities, deredden, calculate magnitudes, and photometric temperatures."
   ]
  },
  {
   "cell_type": "code",
   "execution_count": null,
   "metadata": {},
   "outputs": [],
   "source": [
    "def add_velocities(df):\n",
    "    xyz, vxyz = kek.simple_calc_vxyz(df.ra.values, df.dec.values,\n",
    "                                    df.r_med_photogeo.values*1e-3, df.pmra.values,\n",
    "                                    df.pmdec.values,\n",
    "                                    df.rv.values)\n",
    "    vx, vy, vz = vxyz\n",
    "    x, y, z = xyz\n",
    "\n",
    "    df[\"vx\"] = vxyz[0].value\n",
    "    df[\"vy\"] = vxyz[1].value\n",
    "    df[\"vz\"] = vxyz[2].value\n",
    "    df[\"x\"] = xyz[0].value\n",
    "    df[\"y\"] = xyz[1].value\n",
    "    df[\"z\"] = xyz[2].value\n",
    "    return df\n",
    "\n",
    "\n",
    "# Calculate Absolute magntitude\n",
    "def mM(m, D):\n",
    "    return 5 - 5*np.log10(D) + m\n",
    "\n",
    "\n",
    "def deredden(df):\n",
    "    print(\"Loading Dustmaps\")\n",
    "    bayestar = BayestarQuery(max_samples=2, version='bayestar2019')\n",
    "\n",
    "    print(\"Calculating Ebv\")\n",
    "    coords = SkyCoord(df.ra.values*u.deg, df.dec.values*u.deg,\n",
    "                    distance=df.r_med_photogeo.values*u.pc)\n",
    "\n",
    "    ebv, flags = bayestar(coords, mode='percentile', pct=[16., 50., 84.],\n",
    "                        return_flags=True)\n",
    "\n",
    "    # Calculate Av\n",
    "    Av_bayestar = 2.742 * ebv\n",
    "    print(np.shape(Av_bayestar), \"shape\")\n",
    "    Av = Av_bayestar[:, 1]\n",
    "    Av_errm = Av - Av_bayestar[:, 0]\n",
    "    Av_errp = Av_bayestar[:, 2] - Av\n",
    "    Av_std = .5*(Av_errm + Av_errp)\n",
    "\n",
    "    # Catch places where the extinction uncertainty is zero and default to an\n",
    "    # uncertainty of .05\n",
    "    m = Av_std == 0\n",
    "    Av_std[m] = .05\n",
    "\n",
    "    df[\"ebv\"] = ebv[:, 1]  # The median ebv value.\n",
    "    df[\"Av\"] = Av\n",
    "    df[\"Av_errp\"] = Av_errp\n",
    "    df[\"Av_errm\"] = Av_errm\n",
    "    df[\"Av_std\"] = Av_std\n",
    "\n",
    "    # Calculate dereddened photometry\n",
    "    AG, Abp, Arp = getDust(df.phot_g_mean_mag.values,\n",
    "                           df.phot_bp_mean_mag.values,\n",
    "                           df.phot_rp_mean_mag.values, df.ebv.values)\n",
    "\n",
    "    df[\"bp_dered\"] = df.phot_bp_mean_mag.values - Abp\n",
    "    df[\"rp_dered\"] = df.phot_rp_mean_mag.values - Arp\n",
    "    df[\"bprp_dered\"] = df[\"bp_dered\"] - df[\"rp_dered\"]\n",
    "    df[\"G_dered\"] = df.phot_g_mean_mag.values - AG\n",
    "\n",
    "    abs_G = mM(df.G_dered.values, df.r_med_photogeo)\n",
    "    df[\"abs_G\"] = abs_G\n",
    "\n",
    "    return df\n",
    "\n",
    "\n",
    "def add_phot_teff(df):\n",
    "    # Calculate photometric Teff\n",
    "    teffs = bprp_to_teff(df.bp_dered - df.rp_dered)\n",
    "    df[\"color_teffs\"] = teffs\n",
    "    return df"
   ]
  },
  {
   "cell_type": "code",
   "execution_count": null,
   "metadata": {},
   "outputs": [],
   "source": [
    "[col for col in df.columns if \"photogeo\" in col]"
   ]
  },
  {
   "cell_type": "code",
   "execution_count": null,
   "metadata": {},
   "outputs": [],
   "source": [
    "df_vels = add_velocities(df)"
   ]
  },
  {
   "cell_type": "code",
   "execution_count": null,
   "metadata": {},
   "outputs": [],
   "source": [
    "df_red = deredden(df_vels)"
   ]
  },
  {
   "cell_type": "code",
   "execution_count": null,
   "metadata": {},
   "outputs": [],
   "source": [
    "df_teff = add_phot_teff(df_red)"
   ]
  },
  {
   "cell_type": "code",
   "execution_count": null,
   "metadata": {},
   "outputs": [],
   "source": [
    "# Randomly shuffle the data file so it is not in order of\n",
    "# ascending Kepler id\n",
    "np.random.seed(42)\n",
    "df_random = df_teff.sample(frac=1)"
   ]
  },
  {
   "cell_type": "code",
   "execution_count": null,
   "metadata": {},
   "outputs": [],
   "source": [
    "test = df_random.drop_duplicates(subset=\"source_id\")\n",
    "print(len(test), len(df_random))\n",
    "df_random.to_csv(\"../data/data.csv\")"
   ]
  },
  {
   "cell_type": "markdown",
   "metadata": {},
   "source": [
    "How many of these stars have VSCATTER > 1km/s?"
   ]
  },
  {
   "cell_type": "code",
   "execution_count": null,
   "metadata": {},
   "outputs": [],
   "source": [
    "plt.hist(df_random.VSCATTER, 100, range=(0, 1));\n",
    "print(len(df_random.VSCATTER.values[df_random.VSCATTER.values > 1.]))"
   ]
  },
  {
   "cell_type": "markdown",
   "metadata": {},
   "source": [
    "# A few tests."
   ]
  },
  {
   "cell_type": "code",
   "execution_count": null,
   "metadata": {},
   "outputs": [],
   "source": [
    "# np.array([k for k in df_random.keys()])"
   ]
  },
  {
   "cell_type": "code",
   "execution_count": null,
   "metadata": {},
   "outputs": [],
   "source": [
    "[col for col in df_random.columns if \"rv\" in col]"
   ]
  },
  {
   "cell_type": "code",
   "execution_count": null,
   "metadata": {},
   "outputs": [],
   "source": [
    "plt.figure(figsize=(15, 5))\n",
    "\n",
    "thin = 10\n",
    "xs = np.linspace(-200, 200, 100)\n",
    "\n",
    "plt.subplot(1, 3, 1)\n",
    "plt.errorbar(df_random.dr2_radial_velocity[::thin], df_random.lamost_corrected_rv[::thin],\n",
    "             yerr=df_random.LAMOST_RV_ERR[::thin],\n",
    "             xerr=df_random.dr2_radial_velocity_error[::thin],\n",
    "             fmt=\"k.\", rasterized=True, ms=3, alpha=.1)\n",
    "plt.plot(xs, xs, ls=\"--\", color=\"C1\", zorder=0)\n",
    "plt.xlim(-250, 100)\n",
    "plt.ylim(-250, 100)\n",
    "plt.xlabel(\"Gaia RV [km/s]\")\n",
    "plt.ylabel(\"LAMOST RV [km/s]\")\n",
    "\n",
    "plt.subplot(1, 3, 2)\n",
    "plt.errorbar(df_random.dr2_radial_velocity[::thin], df_random.apogee_corrected_rv[::thin],\n",
    "             yerr=df_random.APOGEE_RV_ERR[::thin],\n",
    "             xerr=df_random.dr2_radial_velocity_error[::thin],\n",
    "             fmt=\"k.\", rasterized=True, ms=3, alpha=.1)\n",
    "plt.plot(xs, xs, ls=\"--\", color=\"C1\", zorder=0)\n",
    "plt.xlim(-250, 100)\n",
    "plt.ylim(-250, 100)\n",
    "plt.xlabel(\"Gaia RV [km/s]\")\n",
    "plt.ylabel(\"APOGEE RV [km/s]\")\n",
    "\n",
    "plt.subplot(1, 3, 3)\n",
    "plt.errorbar(df_random.lamost_corrected_rv[::thin], df_random.apogee_corrected_rv[::thin],\n",
    "             yerr=df_random.APOGEE_RV_ERR[::thin],\n",
    "             xerr=df_random.LAMOST_RV_ERR[::thin],\n",
    "             fmt=\"k.\", rasterized=True, ms=3, alpha=.1)\n",
    "plt.plot(xs, xs, ls=\"--\", color=\"C1\", zorder=0)\n",
    "plt.xlim(-250, 100)\n",
    "plt.ylim(-250, 100);\n",
    "plt.xlabel(\"LAMOST RV [km/s]\")\n",
    "plt.ylabel(\"APOGEE RV [km/s]\")\n",
    "\n",
    "plt.tight_layout()"
   ]
  },
  {
   "cell_type": "markdown",
   "metadata": {},
   "source": [
    "Uncertainty histograms."
   ]
  },
  {
   "cell_type": "code",
   "execution_count": null,
   "metadata": {},
   "outputs": [],
   "source": [
    "plt.figure(figsize=(15, 5))\n",
    "\n",
    "plt.subplot(1, 3, 1)\n",
    "plt.hist(df_random.LAMOST_RV_ERR, 100, range=(0, 15));\n",
    "plt.xlabel(\"LAMOST RV uncertainty [km/s]\", fontsize=15)\n",
    "print(np.median(df_random.LAMOST_RV_ERR.values[np.isfinite(df_random.LAMOST_RV_ERR.values)]))\n",
    "\n",
    "plt.subplot(1, 3, 2)\n",
    "plt.hist(df_random.APOGEE_RV_ERR, 100, range=(0, .1));\n",
    "plt.xlabel(\"APOGEE RV uncertainty [km/s]\", fontsize=15)\n",
    "print(np.median(df_random.APOGEE_RV_ERR.values[np.isfinite(df_random.APOGEE_RV_ERR.values)]))\n",
    "\n",
    "plt.subplot(1, 3, 3)\n",
    "plt.hist(df_random.dr2_radial_velocity_error, 100, range=(0, 15));\n",
    "plt.xlabel(\"Gaia RV uncertainty [km/s]\", fontsize=15)\n",
    "print(np.median(df_random.dr2_radial_velocity_error.values[np.isfinite(df_random.dr2_radial_velocity_error.values)]))"
   ]
  },
  {
   "cell_type": "code",
   "execution_count": null,
   "metadata": {},
   "outputs": [],
   "source": []
  }
 ],
 "metadata": {
  "kernelspec": {
   "display_name": "Python 3",
   "language": "python",
   "name": "python3"
  },
  "language_info": {
   "codemirror_mode": {
    "name": "ipython",
    "version": 3
   },
   "file_extension": ".py",
   "mimetype": "text/x-python",
   "name": "python",
   "nbconvert_exporter": "python",
   "pygments_lexer": "ipython3",
   "version": "3.7.6"
  }
 },
 "nbformat": 4,
 "nbformat_minor": 4
}
