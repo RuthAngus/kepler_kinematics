{
 "cells": [
  {
   "cell_type": "markdown",
   "metadata": {},
   "source": [
    "# This notebook demonstrates how to use kepler_kinematics to calculate stellar velocities"
   ]
  },
  {
   "cell_type": "code",
   "execution_count": 1,
   "metadata": {},
   "outputs": [],
   "source": [
    "%matplotlib inline"
   ]
  },
  {
   "cell_type": "code",
   "execution_count": 2,
   "metadata": {},
   "outputs": [],
   "source": [
    "import numpy as np\n",
    "import matplotlib.pyplot as plt\n",
    "import pandas as pd\n",
    "from astropy.io import fits\n",
    "import pymc3 as pm\n",
    "\n",
    "import kepler_kinematics as kek"
   ]
  },
  {
   "cell_type": "markdown",
   "metadata": {},
   "source": [
    "Let's load the Gaia-Kepler crossmatched catalog."
   ]
  },
  {
   "cell_type": "code",
   "execution_count": 3,
   "metadata": {},
   "outputs": [],
   "source": [
    "with fits.open(\"../../data/kepler_dr2_1arcsec.fits\") as data:\n",
    "    gaia = pd.DataFrame(data[1].data, dtype=\"float64\")"
   ]
  },
  {
   "cell_type": "code",
   "execution_count": 4,
   "metadata": {},
   "outputs": [],
   "source": [
    "gaia_rv = gaia.iloc[gaia.radial_velocity.values != 0.]"
   ]
  },
  {
   "cell_type": "markdown",
   "metadata": {},
   "source": [
    "Select a star."
   ]
  },
  {
   "cell_type": "code",
   "execution_count": 38,
   "metadata": {},
   "outputs": [],
   "source": [
    "star_index = 2\n",
    "df = gaia_rv.iloc[star_index]"
   ]
  },
  {
   "cell_type": "markdown",
   "metadata": {},
   "source": [
    "First, let's calculate the 3D velocities of the star using its radial velocity."
   ]
  },
  {
   "cell_type": "code",
   "execution_count": 39,
   "metadata": {},
   "outputs": [],
   "source": [
    "# for i, row in enumerate(df):\n",
    "xyz, vxyz = kek.simple_calc_vxyz(df[\"ra\"], df[\"dec\"],\n",
    "                                 1./df[\"parallax\"],\n",
    "                                 df[\"pmra\"], df[\"pmdec\"],\n",
    "                                 df[\"radial_velocity\"])\n",
    "\n",
    "vx, vy, vz = vxyz\n",
    "x, y, z = xyz"
   ]
  },
  {
   "cell_type": "markdown",
   "metadata": {},
   "source": [
    "Now let's infer the 3D velocities of the star. First we'll create arrays of position, parallax, and proper motion."
   ]
  },
  {
   "cell_type": "code",
   "execution_count": 40,
   "metadata": {},
   "outputs": [],
   "source": [
    "pos = [float(df[\"ra\"]), float(df[\"dec\"]), float(df[\"parallax\"])]\n",
    "pos_err = [float(df[\"ra_error\"]), float(df[\"dec_error\"]),\n",
    "           float(df[\"parallax_error\"])]\n",
    "proper = [float(df[\"pmra\"]), float(df[\"pmdec\"])]\n",
    "proper_err = [float(df[\"pmra_error\"]), float(df[\"pmdec_error\"])]"
   ]
  },
  {
   "cell_type": "markdown",
   "metadata": {},
   "source": [
    "Get the prior that's built-in for Kepler stars."
   ]
  },
  {
   "cell_type": "code",
   "execution_count": 41,
   "metadata": {},
   "outputs": [
    {
     "name": "stderr",
     "output_type": "stream",
     "text": [
      "/Users/rangus/Applications/anaconda3/lib/python3.7/site-packages/IPython/core/interactiveshell.py:3254: DtypeWarning: Columns (1,2,3,20,21,22,28,30,54,55,56,74,76,155,156,176) have mixed types.Specify dtype option on import or set low_memory=False.\n",
      "  if (await self.run_code(code, result,  async_=asy)):\n"
     ]
    }
   ],
   "source": [
    "mu, cov = kek.get_prior()"
   ]
  },
  {
   "cell_type": "markdown",
   "metadata": {},
   "source": [
    "Run the velocity inference code."
   ]
  },
  {
   "cell_type": "code",
   "execution_count": 42,
   "metadata": {},
   "outputs": [
    {
     "name": "stderr",
     "output_type": "stream",
     "text": [
      "optimizing logp for variables: [vxyzD]\n"
     ]
    },
    {
     "data": {
      "text/html": [
       "\n",
       "    <div>\n",
       "        <style>\n",
       "            /* Turns off some styling */\n",
       "            progress {\n",
       "                /* gets rid of default border in Firefox and Opera. */\n",
       "                border: none;\n",
       "                /* Needs to be in here for Safari polyfill so background images work as expected. */\n",
       "                background-size: auto;\n",
       "            }\n",
       "            .progress-bar-interrupted, .progress-bar-interrupted::-webkit-progress-bar {\n",
       "                background: #F44336;\n",
       "            }\n",
       "        </style>\n",
       "      <progress value='30' class='' max='30' style='width:300px; height:20px; vertical-align: middle;'></progress>\n",
       "      100.00% [30/30 00:00<00:00 logp = -5.676e+00]\n",
       "    </div>\n",
       "    "
      ],
      "text/plain": [
       "<IPython.core.display.HTML object>"
      ]
     },
     "metadata": {},
     "output_type": "display_data"
    },
    {
     "name": "stderr",
     "output_type": "stream",
     "text": [
      "message: Optimization terminated successfully.\n",
      "logp: -2823.3997376390475 -> -5.676444099942984\n"
     ]
    },
    {
     "name": "stdout",
     "output_type": "stream",
     "text": [
      "\n"
     ]
    },
    {
     "name": "stderr",
     "output_type": "stream",
     "text": [
      "Multiprocess sampling (4 chains in 4 jobs)\n",
      "NUTS: [vxyzD]\n"
     ]
    },
    {
     "data": {
      "text/html": [
       "\n",
       "    <div>\n",
       "        <style>\n",
       "            /* Turns off some styling */\n",
       "            progress {\n",
       "                /* gets rid of default border in Firefox and Opera. */\n",
       "                border: none;\n",
       "                /* Needs to be in here for Safari polyfill so background images work as expected. */\n",
       "                background-size: auto;\n",
       "            }\n",
       "            .progress-bar-interrupted, .progress-bar-interrupted::-webkit-progress-bar {\n",
       "                background: #F44336;\n",
       "            }\n",
       "        </style>\n",
       "      <progress value='10000' class='' max='10000' style='width:300px; height:20px; vertical-align: middle;'></progress>\n",
       "      100.00% [10000/10000 00:09<00:00 Sampling 4 chains, 0 divergences]\n",
       "    </div>\n",
       "    "
      ],
      "text/plain": [
       "<IPython.core.display.HTML object>"
      ]
     },
     "metadata": {},
     "output_type": "display_data"
    },
    {
     "name": "stderr",
     "output_type": "stream",
     "text": [
      "Sampling 4 chains for 1_500 tune and 1_000 draw iterations (6_000 + 4_000 draws total) took 23 seconds.\n"
     ]
    }
   ],
   "source": [
    "trace = kek.run_pymc3_model(pos, pos_err, proper, proper_err, mu, cov)"
   ]
  },
  {
   "cell_type": "markdown",
   "metadata": {},
   "source": [
    "Pull out the results from the samples."
   ]
  },
  {
   "cell_type": "code",
   "execution_count": 44,
   "metadata": {},
   "outputs": [
    {
     "data": {
      "text/html": [
       "<div>\n",
       "<style scoped>\n",
       "    .dataframe tbody tr th:only-of-type {\n",
       "        vertical-align: middle;\n",
       "    }\n",
       "\n",
       "    .dataframe tbody tr th {\n",
       "        vertical-align: top;\n",
       "    }\n",
       "\n",
       "    .dataframe thead th {\n",
       "        text-align: right;\n",
       "    }\n",
       "</style>\n",
       "<table border=\"1\" class=\"dataframe\">\n",
       "  <thead>\n",
       "    <tr style=\"text-align: right;\">\n",
       "      <th></th>\n",
       "      <th>mean</th>\n",
       "      <th>sd</th>\n",
       "      <th>hdi_3%</th>\n",
       "      <th>hdi_97%</th>\n",
       "      <th>mcse_mean</th>\n",
       "      <th>mcse_sd</th>\n",
       "      <th>ess_mean</th>\n",
       "      <th>ess_sd</th>\n",
       "      <th>ess_bulk</th>\n",
       "      <th>ess_tail</th>\n",
       "      <th>r_hat</th>\n",
       "    </tr>\n",
       "  </thead>\n",
       "  <tbody>\n",
       "    <tr>\n",
       "      <th>vxyzD[0]</th>\n",
       "      <td>16.987</td>\n",
       "      <td>8.761</td>\n",
       "      <td>0.710</td>\n",
       "      <td>33.344</td>\n",
       "      <td>0.129</td>\n",
       "      <td>0.097</td>\n",
       "      <td>4642.0</td>\n",
       "      <td>4081.0</td>\n",
       "      <td>4651.0</td>\n",
       "      <td>2796.0</td>\n",
       "      <td>1.0</td>\n",
       "    </tr>\n",
       "    <tr>\n",
       "      <th>vxyzD[1]</th>\n",
       "      <td>224.922</td>\n",
       "      <td>23.034</td>\n",
       "      <td>179.929</td>\n",
       "      <td>265.880</td>\n",
       "      <td>0.338</td>\n",
       "      <td>0.240</td>\n",
       "      <td>4631.0</td>\n",
       "      <td>4604.0</td>\n",
       "      <td>4638.0</td>\n",
       "      <td>2909.0</td>\n",
       "      <td>1.0</td>\n",
       "    </tr>\n",
       "    <tr>\n",
       "      <th>vxyzD[2]</th>\n",
       "      <td>2.058</td>\n",
       "      <td>4.231</td>\n",
       "      <td>-6.073</td>\n",
       "      <td>9.684</td>\n",
       "      <td>0.062</td>\n",
       "      <td>0.062</td>\n",
       "      <td>4633.0</td>\n",
       "      <td>2350.0</td>\n",
       "      <td>4641.0</td>\n",
       "      <td>2864.0</td>\n",
       "      <td>1.0</td>\n",
       "    </tr>\n",
       "    <tr>\n",
       "      <th>vxyzD[3]</th>\n",
       "      <td>-0.167</td>\n",
       "      <td>0.019</td>\n",
       "      <td>-0.204</td>\n",
       "      <td>-0.134</td>\n",
       "      <td>0.000</td>\n",
       "      <td>0.000</td>\n",
       "      <td>4281.0</td>\n",
       "      <td>4277.0</td>\n",
       "      <td>4297.0</td>\n",
       "      <td>2775.0</td>\n",
       "      <td>1.0</td>\n",
       "    </tr>\n",
       "    <tr>\n",
       "      <th>vxyz[0]</th>\n",
       "      <td>16.987</td>\n",
       "      <td>8.761</td>\n",
       "      <td>0.710</td>\n",
       "      <td>33.344</td>\n",
       "      <td>0.129</td>\n",
       "      <td>0.097</td>\n",
       "      <td>4642.0</td>\n",
       "      <td>4081.0</td>\n",
       "      <td>4651.0</td>\n",
       "      <td>2796.0</td>\n",
       "      <td>1.0</td>\n",
       "    </tr>\n",
       "    <tr>\n",
       "      <th>vxyz[1]</th>\n",
       "      <td>224.922</td>\n",
       "      <td>23.034</td>\n",
       "      <td>179.929</td>\n",
       "      <td>265.880</td>\n",
       "      <td>0.338</td>\n",
       "      <td>0.240</td>\n",
       "      <td>4631.0</td>\n",
       "      <td>4604.0</td>\n",
       "      <td>4638.0</td>\n",
       "      <td>2909.0</td>\n",
       "      <td>1.0</td>\n",
       "    </tr>\n",
       "    <tr>\n",
       "      <th>vxyz[2]</th>\n",
       "      <td>2.058</td>\n",
       "      <td>4.231</td>\n",
       "      <td>-6.073</td>\n",
       "      <td>9.684</td>\n",
       "      <td>0.062</td>\n",
       "      <td>0.062</td>\n",
       "      <td>4633.0</td>\n",
       "      <td>2350.0</td>\n",
       "      <td>4641.0</td>\n",
       "      <td>2864.0</td>\n",
       "      <td>1.0</td>\n",
       "    </tr>\n",
       "    <tr>\n",
       "      <th>log_D</th>\n",
       "      <td>-0.167</td>\n",
       "      <td>0.019</td>\n",
       "      <td>-0.204</td>\n",
       "      <td>-0.134</td>\n",
       "      <td>0.000</td>\n",
       "      <td>0.000</td>\n",
       "      <td>4281.0</td>\n",
       "      <td>4277.0</td>\n",
       "      <td>4297.0</td>\n",
       "      <td>2775.0</td>\n",
       "      <td>1.0</td>\n",
       "    </tr>\n",
       "    <tr>\n",
       "      <th>D</th>\n",
       "      <td>0.846</td>\n",
       "      <td>0.016</td>\n",
       "      <td>0.815</td>\n",
       "      <td>0.875</td>\n",
       "      <td>0.000</td>\n",
       "      <td>0.000</td>\n",
       "      <td>4275.0</td>\n",
       "      <td>4267.0</td>\n",
       "      <td>4297.0</td>\n",
       "      <td>2775.0</td>\n",
       "      <td>1.0</td>\n",
       "    </tr>\n",
       "    <tr>\n",
       "      <th>xyz[0]</th>\n",
       "      <td>-7.826</td>\n",
       "      <td>0.006</td>\n",
       "      <td>-7.836</td>\n",
       "      <td>-7.816</td>\n",
       "      <td>0.000</td>\n",
       "      <td>0.000</td>\n",
       "      <td>4275.0</td>\n",
       "      <td>4275.0</td>\n",
       "      <td>4297.0</td>\n",
       "      <td>2775.0</td>\n",
       "      <td>1.0</td>\n",
       "    </tr>\n",
       "    <tr>\n",
       "      <th>xyz[1]</th>\n",
       "      <td>0.779</td>\n",
       "      <td>0.015</td>\n",
       "      <td>0.751</td>\n",
       "      <td>0.806</td>\n",
       "      <td>0.000</td>\n",
       "      <td>0.000</td>\n",
       "      <td>4275.0</td>\n",
       "      <td>4267.0</td>\n",
       "      <td>4297.0</td>\n",
       "      <td>2775.0</td>\n",
       "      <td>1.0</td>\n",
       "    </tr>\n",
       "    <tr>\n",
       "      <th>xyz[2]</th>\n",
       "      <td>0.143</td>\n",
       "      <td>0.003</td>\n",
       "      <td>0.138</td>\n",
       "      <td>0.148</td>\n",
       "      <td>0.000</td>\n",
       "      <td>0.000</td>\n",
       "      <td>4275.0</td>\n",
       "      <td>4267.0</td>\n",
       "      <td>4297.0</td>\n",
       "      <td>2775.0</td>\n",
       "      <td>1.0</td>\n",
       "    </tr>\n",
       "  </tbody>\n",
       "</table>\n",
       "</div>"
      ],
      "text/plain": [
       "             mean      sd   hdi_3%  hdi_97%  mcse_mean  mcse_sd  ess_mean  \\\n",
       "vxyzD[0]   16.987   8.761    0.710   33.344      0.129    0.097    4642.0   \n",
       "vxyzD[1]  224.922  23.034  179.929  265.880      0.338    0.240    4631.0   \n",
       "vxyzD[2]    2.058   4.231   -6.073    9.684      0.062    0.062    4633.0   \n",
       "vxyzD[3]   -0.167   0.019   -0.204   -0.134      0.000    0.000    4281.0   \n",
       "vxyz[0]    16.987   8.761    0.710   33.344      0.129    0.097    4642.0   \n",
       "vxyz[1]   224.922  23.034  179.929  265.880      0.338    0.240    4631.0   \n",
       "vxyz[2]     2.058   4.231   -6.073    9.684      0.062    0.062    4633.0   \n",
       "log_D      -0.167   0.019   -0.204   -0.134      0.000    0.000    4281.0   \n",
       "D           0.846   0.016    0.815    0.875      0.000    0.000    4275.0   \n",
       "xyz[0]     -7.826   0.006   -7.836   -7.816      0.000    0.000    4275.0   \n",
       "xyz[1]      0.779   0.015    0.751    0.806      0.000    0.000    4275.0   \n",
       "xyz[2]      0.143   0.003    0.138    0.148      0.000    0.000    4275.0   \n",
       "\n",
       "          ess_sd  ess_bulk  ess_tail  r_hat  \n",
       "vxyzD[0]  4081.0    4651.0    2796.0    1.0  \n",
       "vxyzD[1]  4604.0    4638.0    2909.0    1.0  \n",
       "vxyzD[2]  2350.0    4641.0    2864.0    1.0  \n",
       "vxyzD[3]  4277.0    4297.0    2775.0    1.0  \n",
       "vxyz[0]   4081.0    4651.0    2796.0    1.0  \n",
       "vxyz[1]   4604.0    4638.0    2909.0    1.0  \n",
       "vxyz[2]   2350.0    4641.0    2864.0    1.0  \n",
       "log_D     4277.0    4297.0    2775.0    1.0  \n",
       "D         4267.0    4297.0    2775.0    1.0  \n",
       "xyz[0]    4275.0    4297.0    2775.0    1.0  \n",
       "xyz[1]    4267.0    4297.0    2775.0    1.0  \n",
       "xyz[2]    4267.0    4297.0    2775.0    1.0  "
      ]
     },
     "execution_count": 44,
     "metadata": {},
     "output_type": "execute_result"
    }
   ],
   "source": [
    "import arviz as az\n",
    "\n",
    "az.summary(trace)"
   ]
  },
  {
   "cell_type": "code",
   "execution_count": 31,
   "metadata": {},
   "outputs": [
    {
     "name": "stdout",
     "output_type": "stream",
     "text": [
      "0.6716677948207352\n",
      "[ 52.73752921 220.48851724   0.6870397 ]\n"
     ]
    }
   ],
   "source": [
    "# trace.posterior.to_dataframe()\n",
    "print(np.median(trace.posterior[\"D\"].values))\n",
    "print(np.median(trace.posterior[\"vxyz\"].values, axis=(0, 1)))"
   ]
  },
  {
   "cell_type": "code",
   "execution_count": null,
   "metadata": {},
   "outputs": [],
   "source": []
  },
  {
   "cell_type": "code",
   "execution_count": null,
   "metadata": {},
   "outputs": [],
   "source": []
  },
  {
   "cell_type": "code",
   "execution_count": null,
   "metadata": {},
   "outputs": [],
   "source": []
  },
  {
   "cell_type": "code",
   "execution_count": null,
   "metadata": {},
   "outputs": [],
   "source": []
  },
  {
   "cell_type": "code",
   "execution_count": null,
   "metadata": {},
   "outputs": [],
   "source": []
  },
  {
   "cell_type": "code",
   "execution_count": 10,
   "metadata": {},
   "outputs": [],
   "source": [
    "flat_samples = pm.trace_to_dataframe(trace)\n",
    "\n",
    "params_inferred = np.median(flat_samples, axis=0)\n",
    "upper = np.percentile(flat_samples, 84, axis=0)\n",
    "lower = np.percentile(flat_samples, 16, axis=0)\n",
    "errp = upper - params_inferred\n",
    "errm = params_inferred - lower\n",
    "std = np.std(flat_samples, axis=0)\n",
    "\n",
    "results = pd.DataFrame(dict({\"kepid\": df[\"kepid\"],\n",
    "                             \"vx\": params_inferred[0], \"vx_errp\": errp[0], \"vx_errm\": errm[0], \"vx_err\": std[0],\n",
    "                             \"vy\": params_inferred[1], \"vy_errp\": errp[1], \"vy_errm\": errm[1], \"vy_err\": std[1],\n",
    "                             \"vz\": params_inferred[2], \"vz_errp\": errp[2], \"vz_errm\": errm[2], \"vz_err\": std[2],\n",
    "                             \"lndistance\": params_inferred[3], \"lndistance_errp\": errp[3],\n",
    "                             \"lndistance_errm\": errm[3], \"lndistance_err\": std[3]\n",
    "                            }), index=[0])"
   ]
  },
  {
   "cell_type": "code",
   "execution_count": 11,
   "metadata": {},
   "outputs": [
    {
     "name": "stdout",
     "output_type": "stream",
     "text": [
      "50.4 km / s, 52.8 +/- 8.7 km / s\n",
      "215.2 km / s, 220.7 +/- 22.7 km / s\n",
      "-0.3 km / s, 0.7 +/- 4.2 km / s\n"
     ]
    }
   ],
   "source": [
    "print(f\"{vx:.1f}, {float(results.vx.values):.1f} +/- {float(results.vx_err.values):.1f} km / s\")\n",
    "print(f\"{vy:.1f}, {float(results.vy.values):.1f} +/- {float(results.vy_err.values):.1f} km / s\")\n",
    "print(f\"{vz:.1f}, {float(results.vz.values):.1f} +/- {float(results.vz_err.values):.1f} km / s\")"
   ]
  },
  {
   "cell_type": "code",
   "execution_count": 12,
   "metadata": {},
   "outputs": [
    {
     "name": "stdout",
     "output_type": "stream",
     "text": [
      "50.4 km / s, 52.8 +/- 8.7 km / s\n",
      "215.2 km / s, 220.7 +/- 22.7 km / s\n",
      "-0.3 km / s, 0.7 +/- 4.2 km / s\n"
     ]
    }
   ],
   "source": [
    "print(f\"{vx:.1f}, {float(results.vx.values):.1f} +/- {float(results.vx_err.values):.1f} km / s\")\n",
    "print(f\"{vy:.1f}, {float(results.vy.values):.1f} +/- {float(results.vy_err.values):.1f} km / s\")\n",
    "print(f\"{vz:.1f}, {float(results.vz.values):.1f} +/- {float(results.vz_err.values):.1f} km / s\")"
   ]
  },
  {
   "cell_type": "code",
   "execution_count": null,
   "metadata": {},
   "outputs": [],
   "source": []
  }
 ],
 "metadata": {
  "kernelspec": {
   "display_name": "Python 3",
   "language": "python",
   "name": "python3"
  },
  "language_info": {
   "codemirror_mode": {
    "name": "ipython",
    "version": 3
   },
   "file_extension": ".py",
   "mimetype": "text/x-python",
   "name": "python",
   "nbconvert_exporter": "python",
   "pygments_lexer": "ipython3",
   "version": "3.7.6"
  }
 },
 "nbformat": 4,
 "nbformat_minor": 4
}
