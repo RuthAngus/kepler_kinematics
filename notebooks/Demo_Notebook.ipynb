{
 "cells": [
  {
   "cell_type": "markdown",
   "metadata": {},
   "source": [
    "# This notebook demonstrates how to use kepler_kinematics to calculate stellar velocities"
   ]
  },
  {
   "cell_type": "code",
   "execution_count": 1,
   "metadata": {},
   "outputs": [],
   "source": [
    "%matplotlib inline"
   ]
  },
  {
   "cell_type": "code",
   "execution_count": 2,
   "metadata": {},
   "outputs": [
    {
     "name": "stdout",
     "output_type": "stream",
     "text": [
      "Calculating prior from 53395 stars\n"
     ]
    }
   ],
   "source": [
    "import numpy as np\n",
    "import matplotlib.pyplot as plt\n",
    "import pandas as pd\n",
    "from astropy.io import fits\n",
    "import pymc3 as pm\n",
    "\n",
    "import kepler_kinematics as kek"
   ]
  },
  {
   "cell_type": "markdown",
   "metadata": {},
   "source": [
    "Let's load the Gaia-Kepler crossmatched catalog."
   ]
  },
  {
   "cell_type": "code",
   "execution_count": 3,
   "metadata": {},
   "outputs": [],
   "source": [
    "with fits.open(\"../../data/kepler_dr2_1arcsec.fits\") as data:\n",
    "    gaia = pd.DataFrame(data[1].data, dtype=\"float64\")"
   ]
  },
  {
   "cell_type": "code",
   "execution_count": 4,
   "metadata": {},
   "outputs": [],
   "source": [
    "gaia_rv = gaia.iloc[gaia.radial_velocity.values != 0.]"
   ]
  },
  {
   "cell_type": "markdown",
   "metadata": {},
   "source": [
    "Select a star."
   ]
  },
  {
   "cell_type": "code",
   "execution_count": 5,
   "metadata": {},
   "outputs": [],
   "source": [
    "star_index = 0\n",
    "df = gaia_rv.iloc[star_index]"
   ]
  },
  {
   "cell_type": "markdown",
   "metadata": {},
   "source": [
    "First, let's calculate the 3D velocities of the star using its radial velocity."
   ]
  },
  {
   "cell_type": "code",
   "execution_count": 6,
   "metadata": {},
   "outputs": [],
   "source": [
    "# for i, row in enumerate(df):\n",
    "xyz, vxyz = kek.simple_calc_vxyz(df[\"ra\"], df[\"dec\"],\n",
    "                                 1./df[\"parallax\"],\n",
    "                                 df[\"pmra\"], df[\"pmdec\"],\n",
    "                                 df[\"radial_velocity\"])\n",
    "\n",
    "vx, vy, vz = vxyz\n",
    "x, y, z = xyz"
   ]
  },
  {
   "cell_type": "markdown",
   "metadata": {},
   "source": [
    "Now let's infer the 3D velocities of the star. First we'll create arrays of position, parallax, and proper motion."
   ]
  },
  {
   "cell_type": "code",
   "execution_count": 7,
   "metadata": {},
   "outputs": [],
   "source": [
    "pos = [float(df[\"ra\"]), float(df[\"dec\"]), float(df[\"parallax\"])]\n",
    "pos_err = [float(df[\"ra_error\"]), float(df[\"dec_error\"]),\n",
    "           float(df[\"parallax_error\"])]\n",
    "proper = [float(df[\"pmra\"]), float(df[\"pmdec\"])]\n",
    "proper_err = [float(df[\"pmra_error\"]), float(df[\"pmdec_error\"])]"
   ]
  },
  {
   "cell_type": "markdown",
   "metadata": {},
   "source": [
    "Get the prior that's built-in for Kepler stars."
   ]
  },
  {
   "cell_type": "code",
   "execution_count": 8,
   "metadata": {},
   "outputs": [],
   "source": [
    "mu, cov = kek.get_prior()"
   ]
  },
  {
   "cell_type": "markdown",
   "metadata": {},
   "source": [
    "Run the velocity inference code."
   ]
  },
  {
   "cell_type": "code",
   "execution_count": null,
   "metadata": {},
   "outputs": [
    {
     "name": "stderr",
     "output_type": "stream",
     "text": [
      "optimizing logp for variables: [vxyzD]\n"
     ]
    },
    {
     "data": {
      "application/vnd.jupyter.widget-view+json": {
       "model_id": "db9187243d124fdcad39782d1a6515fc",
       "version_major": 2,
       "version_minor": 0
      },
      "text/plain": [
       "HBox(children=(FloatProgress(value=1.0, bar_style='info', max=1.0), HTML(value='')))"
      ]
     },
     "metadata": {},
     "output_type": "display_data"
    },
    {
     "name": "stdout",
     "output_type": "stream",
     "text": [
      "\n"
     ]
    },
    {
     "name": "stderr",
     "output_type": "stream",
     "text": [
      "message: Optimization terminated successfully.\n",
      "logp: -5535.2246067517335 -> -8.160599497356813\n",
      "/Users/rangus/Applications/anaconda3/lib/python3.7/site-packages/pymc3/sampling.py:468: FutureWarning: In an upcoming release, pm.sample will return an `arviz.InferenceData` object instead of a `MultiTrace` by default. You can pass return_inferencedata=True or return_inferencedata=False to be safe and silence this warning.\n",
      "  FutureWarning,\n",
      "Multiprocess sampling (4 chains in 4 jobs)\n",
      "NUTS: [vxyzD]\n"
     ]
    }
   ],
   "source": [
    "trace = kek.run_pymc3_model(pos, pos_err, proper, proper_err, mu, cov)"
   ]
  },
  {
   "cell_type": "markdown",
   "metadata": {},
   "source": [
    "Pull out the results from the samples."
   ]
  },
  {
   "cell_type": "code",
   "execution_count": 17,
   "metadata": {},
   "outputs": [],
   "source": [
    "flat_samples = pm.trace_to_dataframe(trace)\n",
    "\n",
    "params_inferred = np.median(flat_samples, axis=0)\n",
    "upper = np.percentile(flat_samples, 84, axis=0)\n",
    "lower = np.percentile(flat_samples, 16, axis=0)\n",
    "errp = upper - params_inferred\n",
    "errm = params_inferred - lower\n",
    "std = np.std(flat_samples, axis=0)\n",
    "\n",
    "results = pd.DataFrame(dict({\"kepid\": df[\"kepid\"],\n",
    "                             \"vx\": params_inferred[0], \"vx_errp\": errp[0], \"vx_errm\": errm[0], \"vx_err\": std[0],\n",
    "                             \"vy\": params_inferred[1], \"vy_errp\": errp[1], \"vy_errm\": errm[1], \"vy_err\": std[1],\n",
    "                             \"vz\": params_inferred[2], \"vz_errp\": errp[2], \"vz_errm\": errm[2], \"vz_err\": std[2],\n",
    "                             \"lndistance\": params_inferred[3], \"lndistance_errp\": errp[3],\n",
    "                             \"lndistance_errm\": errm[3], \"lndistance_err\": std[3]\n",
    "                            }), index=[0])"
   ]
  },
  {
   "cell_type": "code",
   "execution_count": 39,
   "metadata": {},
   "outputs": [
    {
     "name": "stdout",
     "output_type": "stream",
     "text": [
      "50.4 km / s, 53.4 +/- 7.2 km / s\n",
      "215.2 km / s, 223.0 +/- 18.3 km / s\n",
      "-0.3 km / s, 1.1 +/- 3.4 km / s\n"
     ]
    }
   ],
   "source": [
    "print(f\"{vx:.1f}, {float(results.vx.values):.1f} +/- {float(results.vx_err.values):.1f} km / s\")\n",
    "print(f\"{vy:.1f}, {float(results.vy.values):.1f} +/- {float(results.vy_err.values):.1f} km / s\")\n",
    "print(f\"{vz:.1f}, {float(results.vz.values):.1f} +/- {float(results.vz_err.values):.1f} km / s\")"
   ]
  },
  {
   "cell_type": "code",
   "execution_count": null,
   "metadata": {},
   "outputs": [],
   "source": []
  }
 ],
 "metadata": {
  "kernelspec": {
   "display_name": "Python 3",
   "language": "python",
   "name": "python3"
  },
  "language_info": {
   "codemirror_mode": {
    "name": "ipython",
    "version": 3
   },
   "file_extension": ".py",
   "mimetype": "text/x-python",
   "name": "python",
   "nbconvert_exporter": "python",
   "pygments_lexer": "ipython3",
   "version": "3.7.6"
  }
 },
 "nbformat": 4,
 "nbformat_minor": 4
}
