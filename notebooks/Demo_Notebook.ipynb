{
 "cells": [
  {
   "cell_type": "markdown",
   "metadata": {},
   "source": [
    "# This notebook demonstrates how to use kepler_kinematics to calculate stellar velocities"
   ]
  },
  {
   "cell_type": "code",
   "execution_count": 2,
   "metadata": {},
   "outputs": [],
   "source": [
    "%matplotlib inline"
   ]
  },
  {
   "cell_type": "code",
   "execution_count": 3,
   "metadata": {},
   "outputs": [],
   "source": [
    "import numpy as np\n",
    "import matplotlib.pyplot as plt\n",
    "import pandas as pd\n",
    "from astropy.io import fits\n",
    "import pymc3 as pm\n",
    "\n",
    "import corner\n",
    "\n",
    "import kepler_kinematics as kek"
   ]
  },
  {
   "cell_type": "markdown",
   "metadata": {},
   "source": [
    "Let's load the Gaia-Kepler crossmatched catalog."
   ]
  },
  {
   "cell_type": "code",
   "execution_count": 115,
   "metadata": {},
   "outputs": [],
   "source": [
    "with fits.open(\"../../data/kepler_dr2_1arcsec.fits\") as data:\n",
    "    gaia = pd.DataFrame(data[1].data, dtype=\"float64\")\n",
    "gaia_rv = gaia.iloc[gaia.radial_velocity.values != 0.]"
   ]
  },
  {
   "cell_type": "code",
   "execution_count": 116,
   "metadata": {},
   "outputs": [],
   "source": [
    "# df = pd.read_csv(\"../kepler_kinematics/data.csv\")\n",
    "# gaia_rv = df.iloc[np.isfinite(df.rv.values)]"
   ]
  },
  {
   "cell_type": "markdown",
   "metadata": {},
   "source": [
    "Select a star."
   ]
  },
  {
   "cell_type": "code",
   "execution_count": 117,
   "metadata": {},
   "outputs": [
    {
     "name": "stdout",
     "output_type": "stream",
     "text": [
      "29733\n",
      "12218729\n"
     ]
    }
   ],
   "source": [
    "np.random.seed(1)\n",
    "star_index = np.random.randint(0, len(gaia_rv))\n",
    "print(star_index)\n",
    "# star_index = 0\n",
    "df = gaia_rv.iloc[star_index]\n",
    "print(int(df.kepid))"
   ]
  },
  {
   "cell_type": "markdown",
   "metadata": {},
   "source": [
    "First, let's calculate the 3D velocities of the star using its radial velocity."
   ]
  },
  {
   "cell_type": "code",
   "execution_count": 118,
   "metadata": {},
   "outputs": [],
   "source": [
    "# for i, row in enumerate(df):\n",
    "xyz, vxyz = kek.simple_calc_vxyz(df[\"ra\"], df[\"dec\"],\n",
    "#                                  df[\"r_med_photogeo\"]*1e-3,\n",
    "                                 df[\"r_est\"]*1e-3,\n",
    "                                 df[\"pmra\"], df[\"pmdec\"],\n",
    "                                 df[\"radial_velocity\"])\n",
    "#                                  df[\"rv\"])\n",
    "\n",
    "\n",
    "vx, vy, vz = vxyz\n",
    "x, y, z = xyz\n",
    "# d = df[\"r_med_photogeo\"] * 1e-3\n",
    "d = df[\"r_est\"] * 1e-3"
   ]
  },
  {
   "cell_type": "markdown",
   "metadata": {},
   "source": [
    "Now let's infer the 3D velocities of the star. First we'll create arrays of position, parallax, and proper motion."
   ]
  },
  {
   "cell_type": "code",
   "execution_count": 119,
   "metadata": {},
   "outputs": [],
   "source": [
    "pos = [float(df[\"ra\"]), float(df[\"dec\"]), float(df[\"parallax\"])]\n",
    "pos_err = [float(df[\"ra_error\"]), float(df[\"dec_error\"]),\n",
    "           float(df[\"parallax_error\"])]\n",
    "proper = [float(df[\"pmra\"]), float(df[\"pmdec\"])]\n",
    "proper_err = [float(df[\"pmra_error\"]), float(df[\"pmdec_error\"])]"
   ]
  },
  {
   "cell_type": "markdown",
   "metadata": {},
   "source": [
    "Get the prior that's built-in for Kepler stars."
   ]
  },
  {
   "cell_type": "code",
   "execution_count": 120,
   "metadata": {},
   "outputs": [],
   "source": [
    "mu, cov = kek.get_prior()"
   ]
  },
  {
   "cell_type": "markdown",
   "metadata": {},
   "source": [
    "Run the velocity inference code."
   ]
  },
  {
   "cell_type": "code",
   "execution_count": 121,
   "metadata": {},
   "outputs": [
    {
     "name": "stderr",
     "output_type": "stream",
     "text": [
      "optimizing logp for variables: [vxyzD]\n"
     ]
    },
    {
     "data": {
      "text/html": [
       "\n",
       "    <div>\n",
       "        <style>\n",
       "            /* Turns off some styling */\n",
       "            progress {\n",
       "                /* gets rid of default border in Firefox and Opera. */\n",
       "                border: none;\n",
       "                /* Needs to be in here for Safari polyfill so background images work as expected. */\n",
       "                background-size: auto;\n",
       "            }\n",
       "            .progress-bar-interrupted, .progress-bar-interrupted::-webkit-progress-bar {\n",
       "                background: #F44336;\n",
       "            }\n",
       "        </style>\n",
       "      <progress value='27' class='' max='27' style='width:300px; height:20px; vertical-align: middle;'></progress>\n",
       "      100.00% [27/27 00:00<00:00 logp = -1.054e+01]\n",
       "    </div>\n",
       "    "
      ],
      "text/plain": [
       "<IPython.core.display.HTML object>"
      ]
     },
     "metadata": {},
     "output_type": "display_data"
    },
    {
     "name": "stderr",
     "output_type": "stream",
     "text": [
      "message: Optimization terminated successfully.\n",
      "logp: -2139.8073386855817 -> -10.535049056406335\n"
     ]
    },
    {
     "name": "stdout",
     "output_type": "stream",
     "text": [
      "\n"
     ]
    },
    {
     "name": "stderr",
     "output_type": "stream",
     "text": [
      "Multiprocess sampling (4 chains in 4 jobs)\n",
      "NUTS: [vxyzD]\n"
     ]
    },
    {
     "data": {
      "text/html": [
       "\n",
       "    <div>\n",
       "        <style>\n",
       "            /* Turns off some styling */\n",
       "            progress {\n",
       "                /* gets rid of default border in Firefox and Opera. */\n",
       "                border: none;\n",
       "                /* Needs to be in here for Safari polyfill so background images work as expected. */\n",
       "                background-size: auto;\n",
       "            }\n",
       "            .progress-bar-interrupted, .progress-bar-interrupted::-webkit-progress-bar {\n",
       "                background: #F44336;\n",
       "            }\n",
       "        </style>\n",
       "      <progress value='10000' class='' max='10000' style='width:300px; height:20px; vertical-align: middle;'></progress>\n",
       "      100.00% [10000/10000 00:09<00:00 Sampling 4 chains, 0 divergences]\n",
       "    </div>\n",
       "    "
      ],
      "text/plain": [
       "<IPython.core.display.HTML object>"
      ]
     },
     "metadata": {},
     "output_type": "display_data"
    },
    {
     "name": "stderr",
     "output_type": "stream",
     "text": [
      "Sampling 4 chains for 1_500 tune and 1_000 draw iterations (6_000 + 4_000 draws total) took 22 seconds.\n"
     ]
    }
   ],
   "source": [
    "trace = kek.run_pymc3_model(pos, pos_err, proper, proper_err, mu, cov)"
   ]
  },
  {
   "cell_type": "markdown",
   "metadata": {},
   "source": [
    "Pull out the results from the samples."
   ]
  },
  {
   "cell_type": "code",
   "execution_count": 122,
   "metadata": {},
   "outputs": [
    {
     "data": {
      "text/html": [
       "<div>\n",
       "<style scoped>\n",
       "    .dataframe tbody tr th:only-of-type {\n",
       "        vertical-align: middle;\n",
       "    }\n",
       "\n",
       "    .dataframe tbody tr th {\n",
       "        vertical-align: top;\n",
       "    }\n",
       "\n",
       "    .dataframe thead th {\n",
       "        text-align: right;\n",
       "    }\n",
       "</style>\n",
       "<table border=\"1\" class=\"dataframe\">\n",
       "  <thead>\n",
       "    <tr style=\"text-align: right;\">\n",
       "      <th></th>\n",
       "      <th>mean</th>\n",
       "      <th>sd</th>\n",
       "      <th>hdi_3%</th>\n",
       "      <th>hdi_97%</th>\n",
       "      <th>mcse_mean</th>\n",
       "      <th>mcse_sd</th>\n",
       "      <th>ess_mean</th>\n",
       "      <th>ess_sd</th>\n",
       "      <th>ess_bulk</th>\n",
       "      <th>ess_tail</th>\n",
       "      <th>r_hat</th>\n",
       "    </tr>\n",
       "  </thead>\n",
       "  <tbody>\n",
       "    <tr>\n",
       "      <th>vxyzD[0]</th>\n",
       "      <td>31.472</td>\n",
       "      <td>2.629</td>\n",
       "      <td>26.762</td>\n",
       "      <td>36.590</td>\n",
       "      <td>0.040</td>\n",
       "      <td>0.028</td>\n",
       "      <td>4379.0</td>\n",
       "      <td>4379.0</td>\n",
       "      <td>4387.0</td>\n",
       "      <td>3148.0</td>\n",
       "      <td>1.0</td>\n",
       "    </tr>\n",
       "    <tr>\n",
       "      <th>vxyzD[1]</th>\n",
       "      <td>229.966</td>\n",
       "      <td>24.451</td>\n",
       "      <td>185.307</td>\n",
       "      <td>276.964</td>\n",
       "      <td>0.370</td>\n",
       "      <td>0.262</td>\n",
       "      <td>4366.0</td>\n",
       "      <td>4366.0</td>\n",
       "      <td>4373.0</td>\n",
       "      <td>2943.0</td>\n",
       "      <td>1.0</td>\n",
       "    </tr>\n",
       "    <tr>\n",
       "      <th>vxyzD[2]</th>\n",
       "      <td>1.062</td>\n",
       "      <td>5.535</td>\n",
       "      <td>-9.377</td>\n",
       "      <td>11.403</td>\n",
       "      <td>0.084</td>\n",
       "      <td>0.083</td>\n",
       "      <td>4344.0</td>\n",
       "      <td>2209.0</td>\n",
       "      <td>4349.0</td>\n",
       "      <td>2952.0</td>\n",
       "      <td>1.0</td>\n",
       "    </tr>\n",
       "    <tr>\n",
       "      <th>vxyzD[3]</th>\n",
       "      <td>-1.035</td>\n",
       "      <td>0.027</td>\n",
       "      <td>-1.088</td>\n",
       "      <td>-0.987</td>\n",
       "      <td>0.000</td>\n",
       "      <td>0.000</td>\n",
       "      <td>4144.0</td>\n",
       "      <td>4144.0</td>\n",
       "      <td>4094.0</td>\n",
       "      <td>3082.0</td>\n",
       "      <td>1.0</td>\n",
       "    </tr>\n",
       "    <tr>\n",
       "      <th>vxyz[0]</th>\n",
       "      <td>31.472</td>\n",
       "      <td>2.629</td>\n",
       "      <td>26.762</td>\n",
       "      <td>36.590</td>\n",
       "      <td>0.040</td>\n",
       "      <td>0.028</td>\n",
       "      <td>4379.0</td>\n",
       "      <td>4379.0</td>\n",
       "      <td>4387.0</td>\n",
       "      <td>3148.0</td>\n",
       "      <td>1.0</td>\n",
       "    </tr>\n",
       "    <tr>\n",
       "      <th>vxyz[1]</th>\n",
       "      <td>229.966</td>\n",
       "      <td>24.451</td>\n",
       "      <td>185.307</td>\n",
       "      <td>276.964</td>\n",
       "      <td>0.370</td>\n",
       "      <td>0.262</td>\n",
       "      <td>4366.0</td>\n",
       "      <td>4366.0</td>\n",
       "      <td>4373.0</td>\n",
       "      <td>2943.0</td>\n",
       "      <td>1.0</td>\n",
       "    </tr>\n",
       "    <tr>\n",
       "      <th>vxyz[2]</th>\n",
       "      <td>1.062</td>\n",
       "      <td>5.535</td>\n",
       "      <td>-9.377</td>\n",
       "      <td>11.403</td>\n",
       "      <td>0.084</td>\n",
       "      <td>0.083</td>\n",
       "      <td>4344.0</td>\n",
       "      <td>2209.0</td>\n",
       "      <td>4349.0</td>\n",
       "      <td>2952.0</td>\n",
       "      <td>1.0</td>\n",
       "    </tr>\n",
       "    <tr>\n",
       "      <th>log_D</th>\n",
       "      <td>-1.035</td>\n",
       "      <td>0.027</td>\n",
       "      <td>-1.088</td>\n",
       "      <td>-0.987</td>\n",
       "      <td>0.000</td>\n",
       "      <td>0.000</td>\n",
       "      <td>4144.0</td>\n",
       "      <td>4144.0</td>\n",
       "      <td>4094.0</td>\n",
       "      <td>3082.0</td>\n",
       "      <td>1.0</td>\n",
       "    </tr>\n",
       "    <tr>\n",
       "      <th>D</th>\n",
       "      <td>0.355</td>\n",
       "      <td>0.010</td>\n",
       "      <td>0.337</td>\n",
       "      <td>0.373</td>\n",
       "      <td>0.000</td>\n",
       "      <td>0.000</td>\n",
       "      <td>4126.0</td>\n",
       "      <td>4105.0</td>\n",
       "      <td>4094.0</td>\n",
       "      <td>3082.0</td>\n",
       "      <td>1.0</td>\n",
       "    </tr>\n",
       "    <tr>\n",
       "      <th>xyz[0]</th>\n",
       "      <td>-8.086</td>\n",
       "      <td>0.001</td>\n",
       "      <td>-8.088</td>\n",
       "      <td>-8.084</td>\n",
       "      <td>0.000</td>\n",
       "      <td>0.000</td>\n",
       "      <td>4126.0</td>\n",
       "      <td>4126.0</td>\n",
       "      <td>4094.0</td>\n",
       "      <td>3082.0</td>\n",
       "      <td>1.0</td>\n",
       "    </tr>\n",
       "    <tr>\n",
       "      <th>xyz[1]</th>\n",
       "      <td>0.345</td>\n",
       "      <td>0.009</td>\n",
       "      <td>0.327</td>\n",
       "      <td>0.362</td>\n",
       "      <td>0.000</td>\n",
       "      <td>0.000</td>\n",
       "      <td>4126.0</td>\n",
       "      <td>4105.0</td>\n",
       "      <td>4094.0</td>\n",
       "      <td>3082.0</td>\n",
       "      <td>1.0</td>\n",
       "    </tr>\n",
       "    <tr>\n",
       "      <th>xyz[2]</th>\n",
       "      <td>0.078</td>\n",
       "      <td>0.002</td>\n",
       "      <td>0.074</td>\n",
       "      <td>0.082</td>\n",
       "      <td>0.000</td>\n",
       "      <td>0.000</td>\n",
       "      <td>4126.0</td>\n",
       "      <td>4105.0</td>\n",
       "      <td>4094.0</td>\n",
       "      <td>3082.0</td>\n",
       "      <td>1.0</td>\n",
       "    </tr>\n",
       "  </tbody>\n",
       "</table>\n",
       "</div>"
      ],
      "text/plain": [
       "             mean      sd   hdi_3%  hdi_97%  mcse_mean  mcse_sd  ess_mean  \\\n",
       "vxyzD[0]   31.472   2.629   26.762   36.590      0.040    0.028    4379.0   \n",
       "vxyzD[1]  229.966  24.451  185.307  276.964      0.370    0.262    4366.0   \n",
       "vxyzD[2]    1.062   5.535   -9.377   11.403      0.084    0.083    4344.0   \n",
       "vxyzD[3]   -1.035   0.027   -1.088   -0.987      0.000    0.000    4144.0   \n",
       "vxyz[0]    31.472   2.629   26.762   36.590      0.040    0.028    4379.0   \n",
       "vxyz[1]   229.966  24.451  185.307  276.964      0.370    0.262    4366.0   \n",
       "vxyz[2]     1.062   5.535   -9.377   11.403      0.084    0.083    4344.0   \n",
       "log_D      -1.035   0.027   -1.088   -0.987      0.000    0.000    4144.0   \n",
       "D           0.355   0.010    0.337    0.373      0.000    0.000    4126.0   \n",
       "xyz[0]     -8.086   0.001   -8.088   -8.084      0.000    0.000    4126.0   \n",
       "xyz[1]      0.345   0.009    0.327    0.362      0.000    0.000    4126.0   \n",
       "xyz[2]      0.078   0.002    0.074    0.082      0.000    0.000    4126.0   \n",
       "\n",
       "          ess_sd  ess_bulk  ess_tail  r_hat  \n",
       "vxyzD[0]  4379.0    4387.0    3148.0    1.0  \n",
       "vxyzD[1]  4366.0    4373.0    2943.0    1.0  \n",
       "vxyzD[2]  2209.0    4349.0    2952.0    1.0  \n",
       "vxyzD[3]  4144.0    4094.0    3082.0    1.0  \n",
       "vxyz[0]   4379.0    4387.0    3148.0    1.0  \n",
       "vxyz[1]   4366.0    4373.0    2943.0    1.0  \n",
       "vxyz[2]   2209.0    4349.0    2952.0    1.0  \n",
       "log_D     4144.0    4094.0    3082.0    1.0  \n",
       "D         4105.0    4094.0    3082.0    1.0  \n",
       "xyz[0]    4126.0    4094.0    3082.0    1.0  \n",
       "xyz[1]    4105.0    4094.0    3082.0    1.0  \n",
       "xyz[2]    4105.0    4094.0    3082.0    1.0  "
      ]
     },
     "execution_count": 122,
     "metadata": {},
     "output_type": "execute_result"
    }
   ],
   "source": [
    "import arviz as az\n",
    "\n",
    "az.summary(trace)"
   ]
  },
  {
   "cell_type": "code",
   "execution_count": 123,
   "metadata": {},
   "outputs": [
    {
     "name": "stdout",
     "output_type": "stream",
     "text": [
      "0.3547371766931454\n",
      "[ 31.48742865 230.16635082   1.13174956]\n"
     ]
    }
   ],
   "source": [
    "# trace.posterior.to_dataframe()\n",
    "print(np.median(trace.posterior[\"D\"].values))\n",
    "print(np.median(trace.posterior[\"vxyz\"].values, axis=(0, 1)))"
   ]
  },
  {
   "cell_type": "code",
   "execution_count": 124,
   "metadata": {},
   "outputs": [
    {
     "name": "stdout",
     "output_type": "stream",
     "text": [
      "(4, 1000, 4)\n",
      "(4000, 4)\n"
     ]
    }
   ],
   "source": [
    "print(np.shape(trace.posterior[\"vxyzD\"].values))\n",
    "vsamples = np.reshape(trace.posterior[\"vxyzD\"].values, (4000, 4))\n",
    "print(np.shape(vsamples))"
   ]
  },
  {
   "cell_type": "code",
   "execution_count": 125,
   "metadata": {},
   "outputs": [
    {
     "name": "stdout",
     "output_type": "stream",
     "text": [
      "(4, 4)\n",
      "[[ 6.91186517e+00  6.27004102e+01  1.41353560e+01  1.36762184e-02]\n",
      " [ 6.27004102e+01  5.97844463e+02  1.35206565e+02 -9.21520402e-03]\n",
      " [ 1.41353560e+01  1.35206565e+02  3.06338625e+01 -4.47271275e-03]\n",
      " [ 1.36762184e-02 -9.21520402e-03 -4.47271275e-03  7.22738391e-04]]\n",
      "6.911865166635117 62.70041024899207 14.135356048370603 0.013676218356722338 597.8444631150294 135.20656487998923 -0.009215204023260218 30.633862524962293 -0.004472712750943953 0.0007227383912155148\n"
     ]
    }
   ],
   "source": [
    "print(np.shape(np.cov(vsamples.T)))\n",
    "print((np.cov(vsamples.T)))\n",
    "cov_mat = np.cov(vsamples.T)\n",
    "vxvx_covar, vxvy_covar, vxvz_covar, vxlnd_covar = cov_mat[:, 0]\n",
    "vyvx_covar, vyvy_covar, vyvz_covar, vylnd_covar = cov_mat[:, 1]\n",
    "vzvx_covar, vzvy_covar, vzvz_covar, vzlnd_covar = cov_mat[:, 2]\n",
    "lndvx_covar, lndvy_covar, lndvz_covar, lndlnd_covar = cov_mat[:, 3]\n",
    "\n",
    "print(vxvx_covar, vxvy_covar, vxvz_covar, vxlnd_covar,\n",
    "      vyvy_covar, vyvz_covar, vylnd_covar,\n",
    "      vzvz_covar, vzlnd_covar,\n",
    "      lndlnd_covar)"
   ]
  },
  {
   "cell_type": "code",
   "execution_count": 126,
   "metadata": {},
   "outputs": [
    {
     "name": "stdout",
     "output_type": "stream",
     "text": [
      "(2, 10)\n"
     ]
    }
   ],
   "source": [
    "a = np.linspace(0, 10, 10)\n",
    "print(np.shape(np.vstack((a, a))))"
   ]
  },
  {
   "cell_type": "code",
   "execution_count": null,
   "metadata": {},
   "outputs": [],
   "source": [
    "plotpar = {'axes.labelsize': 25,\n",
    "           'font.size': 12,\n",
    "           'legend.fontsize': 15,\n",
    "           'xtick.labelsize': 15,\n",
    "           'ytick.labelsize': 15,\n",
    "           'text.usetex': True}\n",
    "plt.rcParams.update(plotpar)\n",
    "\n",
    "labels = [\"$\\mathrm{V_x~[kms^{-1}]}$\", \"$\\mathrm{V_y~[kms^{-1}]}$\", \"$\\mathrm{V_z~[kms^{-1}]}$\", \"$\\mathrm{\\ln(D/kpc)}$\"]\n",
    "fig = corner.corner(vsamples, labels=labels, truths=[vx.value, vy.value, vz.value, np.log(d)], dpi=200);\n",
    "# plt.title(f\"KIC {format(int(df.kepid))}\")\n",
    "# plt.savefig(\"../plots/posterior\")\n",
    "# plt.savefig(\"../paper/posterior.pdf\")"
   ]
  },
  {
   "cell_type": "code",
   "execution_count": 114,
   "metadata": {},
   "outputs": [
    {
     "data": {
      "text/plain": [
       "0.27358770751953126"
      ]
     },
     "execution_count": 114,
     "metadata": {},
     "output_type": "execute_result"
    }
   ],
   "source": [
    "d"
   ]
  },
  {
   "cell_type": "code",
   "execution_count": 10,
   "metadata": {},
   "outputs": [],
   "source": [
    "flat_samples = pm.trace_to_dataframe(trace)\n",
    "\n",
    "params_inferred = np.median(flat_samples, axis=0)\n",
    "upper = np.percentile(flat_samples, 84, axis=0)\n",
    "lower = np.percentile(flat_samples, 16, axis=0)\n",
    "errp = upper - params_inferred\n",
    "errm = params_inferred - lower\n",
    "std = np.std(flat_samples, axis=0)\n",
    "\n",
    "results = pd.DataFrame(dict({\"kepid\": df[\"kepid\"],\n",
    "                             \"vx\": params_inferred[0], \"vx_errp\": errp[0], \"vx_errm\": errm[0], \"vx_err\": std[0],\n",
    "                             \"vy\": params_inferred[1], \"vy_errp\": errp[1], \"vy_errm\": errm[1], \"vy_err\": std[1],\n",
    "                             \"vz\": params_inferred[2], \"vz_errp\": errp[2], \"vz_errm\": errm[2], \"vz_err\": std[2],\n",
    "                             \"lndistance\": params_inferred[3], \"lndistance_errp\": errp[3],\n",
    "                             \"lndistance_errm\": errm[3], \"lndistance_err\": std[3]\n",
    "                            }), index=[0])"
   ]
  },
  {
   "cell_type": "code",
   "execution_count": 11,
   "metadata": {},
   "outputs": [
    {
     "name": "stdout",
     "output_type": "stream",
     "text": [
      "50.4 km / s, 52.8 +/- 8.7 km / s\n",
      "215.2 km / s, 220.7 +/- 22.7 km / s\n",
      "-0.3 km / s, 0.7 +/- 4.2 km / s\n"
     ]
    }
   ],
   "source": [
    "print(f\"{vx:.1f}, {float(results.vx.values):.1f} +/- {float(results.vx_err.values):.1f} km / s\")\n",
    "print(f\"{vy:.1f}, {float(results.vy.values):.1f} +/- {float(results.vy_err.values):.1f} km / s\")\n",
    "print(f\"{vz:.1f}, {float(results.vz.values):.1f} +/- {float(results.vz_err.values):.1f} km / s\")"
   ]
  },
  {
   "cell_type": "code",
   "execution_count": 12,
   "metadata": {},
   "outputs": [
    {
     "name": "stdout",
     "output_type": "stream",
     "text": [
      "50.4 km / s, 52.8 +/- 8.7 km / s\n",
      "215.2 km / s, 220.7 +/- 22.7 km / s\n",
      "-0.3 km / s, 0.7 +/- 4.2 km / s\n"
     ]
    }
   ],
   "source": [
    "print(f\"{vx:.1f}, {float(results.vx.values):.1f} +/- {float(results.vx_err.values):.1f} km / s\")\n",
    "print(f\"{vy:.1f}, {float(results.vy.values):.1f} +/- {float(results.vy_err.values):.1f} km / s\")\n",
    "print(f\"{vz:.1f}, {float(results.vz.values):.1f} +/- {float(results.vz_err.values):.1f} km / s\")"
   ]
  },
  {
   "cell_type": "code",
   "execution_count": null,
   "metadata": {},
   "outputs": [],
   "source": []
  }
 ],
 "metadata": {
  "kernelspec": {
   "display_name": "Python 3",
   "language": "python",
   "name": "python3"
  },
  "language_info": {
   "codemirror_mode": {
    "name": "ipython",
    "version": 3
   },
   "file_extension": ".py",
   "mimetype": "text/x-python",
   "name": "python",
   "nbconvert_exporter": "python",
   "pygments_lexer": "ipython3",
   "version": "3.7.6"
  }
 },
 "nbformat": 4,
 "nbformat_minor": 4
}
